{
  "cells": [
    {
      "cell_type": "markdown",
      "metadata": {
        "id": "view-in-github",
        "colab_type": "text"
      },
      "source": [
        "<a href=\"https://colab.research.google.com/github/NoorZahra12/classwork-tasks/blob/main/Chapter_4_exercises_Control_flow.ipynb\" target=\"_parent\"><img src=\"https://colab.research.google.com/assets/colab-badge.svg\" alt=\"Open In Colab\"/></a>"
      ]
    },
    {
      "cell_type": "markdown",
      "metadata": {
        "id": "FCoDfp6Wk5rB"
      },
      "source": [
        "**Exercise 1:**\n",
        "\n",
        "Imagine an alien was just shot down in a game. Create a variable called alien_color and assign it a value of 'green', 'yellow', or 'red'.\n",
        "\n",
        "•Write an if statement to test whether the alien’s color is green. If it is, print a message that the player just earned 5 points.\n",
        "\n",
        "•Write one version of this program that passes the if test and another that fails. (The version that fails will have no output.)"
      ]
    },
    {
      "cell_type": "code",
      "execution_count": null,
      "metadata": {
        "colab": {
          "base_uri": "https://localhost:8080/"
        },
        "id": "7QhiV23jaA3f",
        "outputId": "c052f146-5440-4311-b911-19d655c26fb2"
      },
      "outputs": [
        {
          "name": "stdout",
          "output_type": "stream",
          "text": [
            "what is the color of the alien?\n",
            "red\n"
          ]
        }
      ],
      "source": [
        "#This version will not have an output if the statement is false\n",
        "print(\"what is the color of the alien?\")\n",
        "alein_color=str(input()) #user putting the color of alien\n",
        "if alein_color == \"green\": #condition\n",
        "  print('player got 5 point') #displaying this statement if the condition is true"
      ]
    },
    {
      "cell_type": "code",
      "execution_count": null,
      "metadata": {
        "id": "wO738TC6RtTZ"
      },
      "outputs": [],
      "source": [
        "#in this version of the program the user has to write a color\n",
        "print(\"what is the color of the alien?\")\n",
        "alein_color=str(input()) #user putting the color of the alien\n",
        "if alein_color == \"green\": #condition\n",
        "  print('player got 5 point') #this is output if condition is true\n",
        "else:\n",
        "  print('player get 0 points') #this is output if condition is flase"
      ]
    },
    {
      "cell_type": "markdown",
      "metadata": {
        "id": "Ce-l_8QVk55C"
      },
      "source": [
        "**Exercise 2:**\n",
        "\n",
        "Choose a color for an alien as you did in Exercise 5-3, and write an if-else chain.\n",
        "\n",
        "•If the alien’s color is green, print a statement that the player just earned 5 points for shooting the alien.\n",
        "\n",
        "•If the alien’s color isn’t green, print a statement that the player just earned 10 points.\n",
        "\n",
        "•Write one version of this program that runs the if block and another that runs the else block."
      ]
    },
    {
      "cell_type": "code",
      "execution_count": null,
      "metadata": {
        "colab": {
          "base_uri": "https://localhost:8080/"
        },
        "id": "vXQ5JBj4k9xL",
        "outputId": "3aa53f77-813c-4720-9f74-95f79fc05d8c"
      },
      "outputs": [
        {
          "name": "stdout",
          "output_type": "stream",
          "text": [
            "What is the color of the alien? yellow\n",
            "you have just earned 10 points\n"
          ]
        }
      ],
      "source": [
        "green=5 #putting the 5 points inside a variable called green\n",
        "color=input(\"What is the color of the alien? \") #user inputs any color\n",
        "if str(color)==\"green\": #putting condition if user writes green\n",
        "  print(\"you have earned\", green, \"points for shooting the alien\")  #output if the condition is true or user writes green\n",
        "else: \n",
        "   print(\"you have just earned 10 points\") #output if condition is false or user puts a color other than green"
      ]
    },
    {
      "cell_type": "markdown",
      "metadata": {
        "id": "TPQLdIDOlwWY"
      },
      "source": [
        "**Exercise 3:**\n",
        "\n",
        "Turn your if-else chain from Exercise 5-4 into an if-elifelse chain.\n",
        "\n",
        "•\t If the alien is green, print a message that the player earned 5 points.\n",
        "\n",
        "•\t If the alien is yellow, print a message that the player earned 10 points.\n",
        "\n",
        "•\t If the alien is red, print a message that the player earned 15 points.\n",
        "\n",
        "•\t Write three versions of this program, making sure each message is printed for the appropriate color alien."
      ]
    },
    {
      "cell_type": "code",
      "execution_count": null,
      "metadata": {
        "colab": {
          "base_uri": "https://localhost:8080/"
        },
        "id": "pEjxYZhJmb5x",
        "outputId": "794537e7-fc22-4daa-ee03-468512f838c7"
      },
      "outputs": [
        {
          "name": "stdout",
          "output_type": "stream",
          "text": [
            "Is alien color green, yellow or red?\n",
            "green\n",
            "player got 5 point\n"
          ]
        }
      ],
      "source": [
        "print('Is alien color green, yellow or red?')\n",
        "x=str(input()) #user can enter any color\n",
        "\n",
        "if x == \"green\": #condition 1: if user writes green the user will get the 5 point statement\n",
        "  print('player got 5 point')\n",
        "elif x == \"yellow\": #condition 2: if user writes yellow the user will get the 10 point statement\n",
        "  print('player got 10 point')\n",
        "elif x==\"red\": #condition 3: if user writes red the user will get the 15 point statement\n",
        "  print('you get 15 points')"
      ]
    },
    {
      "cell_type": "markdown",
      "metadata": {
        "id": "k1XdyFGCl4E-"
      },
      "source": [
        "**Exercise 4:**\n",
        "\n",
        "Write an if-elif-else chain that determines a person’s stage of life. Set a value for the variable age, and then:\n",
        "\n",
        "•If the person is less than 2 years old, print a message that the person is a baby.\n",
        "\n",
        "•If the person is at least 2 years old but less than 4, print a message that the person is a toddler.\n",
        "\n",
        "•If the person is at least 4 years old but less than 13, print a message that the person is a kid.\n",
        "\n",
        "•If the person is at least 13 years old but less than 20, print a message that the person is a teenager.\n",
        "\n",
        "•If the person is at least 20 years old but less than 65, print a message that the person is an adult.\n",
        "\n",
        "•If the person is age 65 or older, print a message that the person is an elder.\n"
      ]
    },
    {
      "cell_type": "code",
      "execution_count": null,
      "metadata": {
        "colab": {
          "base_uri": "https://localhost:8080/"
        },
        "id": "ZJQ41LWmmbKh",
        "outputId": "5080170f-8896-412f-93ef-00dd18390c83"
      },
      "outputs": [
        {
          "name": "stdout",
          "output_type": "stream",
          "text": [
            "Please enter your age\n",
            "4\n",
            "The person is a kid\n"
          ]
        }
      ],
      "source": [
        "print('Please enter your age')\n",
        "a=int(input()) #user can enter any number as its age\n",
        "if a<2: #if age is smaller than 2\n",
        "  print(\"The person is a baby\")\n",
        "elif a<4: #if age is atleast 2 and smaller than 4\n",
        "  print(\"The person is a toddler\")\n",
        "elif a<13: #if age is atleast 4 and smaller than 13\n",
        "  print(\"The person is a kid\")\n",
        "elif a<20: #if age is atleast 13 and smaller than 20\n",
        "  print(\"The person is a teenager\")\n",
        "elif a<65: #if age is atleast 20 and smaller than 65\n",
        "  print(\"The person is an adult\")\n",
        "else: #if age is atleast 65 or greater\n",
        "  print(\"The person is an elder\")"
      ]
    },
    {
      "cell_type": "markdown",
      "metadata": {
        "id": "ecCz05wEmNIU"
      },
      "source": [
        "**Exercise 5:**\n",
        "\n",
        "Make a list of your favorite fruits, and then write a series of independent if statements that check for certain fruits in your list.\n",
        "\n",
        "•Make a list of your three favorite fruits and call it favorite_fruits.\n",
        "\n",
        "•Write five if statements. Each should check whether a certain kind of fruit is in your list. If the fruit is in your list, the if block \n",
        "\n",
        "should print a statement,such as You really like bananas!"
      ]
    },
    {
      "cell_type": "code",
      "execution_count": null,
      "metadata": {
        "colab": {
          "background_save": true,
          "base_uri": "https://localhost:8080/"
        },
        "id": "xQUBtL8hSbbr",
        "outputId": "0a67f650-65e5-439e-b3fe-1f4e15e6b5a4"
      },
      "outputs": [
        {
          "name": "stdout",
          "output_type": "stream",
          "text": [
            "Enter your favourite fruit name\n"
          ]
        }
      ],
      "source": [
        "#this code is for user\n",
        "favorite_fruits=[\"apple\",\"banana\",\"mango\"]\n",
        "print(\"Enter your favourite fruit name\")\n",
        "a=input() #user can input any fruit name\n",
        "if a in favorite_fruits: #if the fruit name is in list it will print the following statement\n",
        "  print(\"You really like\",a,\"!\")"
      ]
    },
    {
      "cell_type": "code",
      "execution_count": null,
      "metadata": {
        "colab": {
          "base_uri": "https://localhost:8080/"
        },
        "id": "XlYAdcA5UkHI",
        "outputId": "aac4aa70-b644-4152-dd67-402c9616fed5"
      },
      "outputs": [
        {
          "name": "stdout",
          "output_type": "stream",
          "text": [
            "You really like apples\n",
            "You really like banana\n",
            "You really like oranges\n",
            "You really like mango\n"
          ]
        }
      ],
      "source": [
        "favorite_fruits=[\"apples\",\"banana\",\"oranges\",\"mango\"] #making a list\n",
        "#checking if apples is in list\n",
        "if \"apples\" in favorite_fruits:\n",
        "  print(\"You really like apples\") #output if the condition is true\n",
        "#checking if banana is in list\n",
        "if \"banana\" in favorite_fruits:\n",
        "  print(\"You really like banana\")\n",
        "#checking if oranges is in list\n",
        "if \"oranges\" in favorite_fruits:\n",
        "  print(\"You really like oranges\")\n",
        "#checking if grapes is in list\n",
        "if \"grapes\" in favorite_fruits: #the condition is false so computer will read next condition\n",
        "  print(\"You really like grapes\") #no output will come as it is false\n",
        "#checking if mango is in list\n",
        "if \"mango\" in favorite_fruits:\n",
        "  print(\"You really like mango\")"
      ]
    }
  ],
  "metadata": {
    "colab": {
      "provenance": [],
      "authorship_tag": "ABX9TyP6kqMtmYXFZyq4OqSRcUhV",
      "include_colab_link": true
    },
    "kernelspec": {
      "display_name": "Python 3",
      "name": "python3"
    },
    "language_info": {
      "name": "python"
    }
  },
  "nbformat": 4,
  "nbformat_minor": 0
}