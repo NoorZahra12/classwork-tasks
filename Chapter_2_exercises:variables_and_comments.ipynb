{
  "nbformat": 4,
  "nbformat_minor": 0,
  "metadata": {
    "colab": {
      "provenance": [],
      "authorship_tag": "ABX9TyNelX3m/Y15pijNStbYnrS2",
      "include_colab_link": true
    },
    "kernelspec": {
      "name": "python3",
      "display_name": "Python 3"
    },
    "language_info": {
      "name": "python"
    }
  },
  "cells": [
    {
      "cell_type": "markdown",
      "metadata": {
        "id": "view-in-github",
        "colab_type": "text"
      },
      "source": [
        "<a href=\"https://colab.research.google.com/github/NoorZahra12/classwork-tasks/blob/main/Chapter_2_exercises%3Avariables_and_comments.ipynb\" target=\"_parent\"><img src=\"https://colab.research.google.com/assets/colab-badge.svg\" alt=\"Open In Colab\"/></a>"
      ]
    },
    {
      "cell_type": "markdown",
      "source": [
        "**Exercise 1:**\n",
        "\n",
        "Type out the code below and add the correct data types to complete the variables\n",
        "\n",
        "Assign a message to a variable, and print that message. Then change the value of the variable to a new message, and print the new message."
      ],
      "metadata": {
        "id": "9xoK_4Vwqw_G"
      }
    },
    {
      "cell_type": "code",
      "source": [
        "a=\"Hello python world\"\n",
        "print(a)"
      ],
      "metadata": {
        "id": "XsQnoDC9vXkd",
        "colab": {
          "base_uri": "https://localhost:8080/"
        },
        "outputId": "a8a967ac-f997-42cc-90bc-e9667f2ff8f8"
      },
      "execution_count": null,
      "outputs": [
        {
          "output_type": "stream",
          "name": "stdout",
          "text": [
            "Hello python world\n"
          ]
        }
      ]
    },
    {
      "cell_type": "markdown",
      "source": [
        "**Exercise 2:**\n",
        "\n",
        "Find a quote from a famous person you admire. Print the quote and the name of its author.\n",
        "Find a quote from a famous person you admire. Print the quote and the name of its author. \n",
        "\n",
        "Your output should look something like the following, including the quotation marks:\n",
        "\n",
        "Albert Einstein once said, “A person who never made a mistake never tried anything new."
      ],
      "metadata": {
        "id": "pQWhqYCjq4GY"
      }
    },
    {
      "cell_type": "code",
      "source": [
        "a=(\"Albert Einstein once said,\\\"A person who never made a mistake never tried something new\\\"\")\n",
        "print(a)"
      ],
      "metadata": {
        "id": "uZUCy7ekvYPP",
        "colab": {
          "base_uri": "https://localhost:8080/"
        },
        "outputId": "85f7e7fb-7890-4e3e-d756-d82f5d4fcac4"
      },
      "execution_count": null,
      "outputs": [
        {
          "output_type": "stream",
          "name": "stdout",
          "text": [
            "Albert Einstein once said,\"A person who never made a mistake never tried something new\"\n"
          ]
        }
      ]
    },
    {
      "cell_type": "markdown",
      "source": [
        "**Exercise 3:**\n",
        "\n",
        "Tidy up the code to make it easier to understand\n",
        "\n",
        "Use a variable to represent a person’s name, and include some whitespace characters at the beginning and end of the name. Make sure you use each character combination, “\\t” and “\\n”, at least once.\n",
        "\n",
        "Print the name once, so the whitespace around the name is displayed.\n",
        "Print the name once, so the whitespace around the name is displayed. \n",
        "\n",
        "Then print the name using each of the three stripping functions, lstrip(), rstrip(), and strip()."
      ],
      "metadata": {
        "id": "TarVJk0dq8Y2"
      }
    },
    {
      "cell_type": "code",
      "source": [
        "a=\"  my name is \\t Noor Zahra    \"\n",
        "print(a)\n",
        "print(\"\\n\")\n",
        "#strip\n",
        "print(\"Im using the strip function here which will erase the extra spaces\")\n",
        "word='   python is cool  '\n",
        "newword=word.strip()\n",
        "print(word)\n",
        "print(newword)\n",
        "print(\"\\n\")\n",
        "#l.strip\n",
        "print(\"I'm using the l.strip function which will erase the extra spaces on the left only\")\n",
        "word='   python is easy '\n",
        "newword=word.lstrip()\n",
        "print(word)\n",
        "print(newword)\n",
        "print(\"\\n\")\n",
        "#r.strip\n",
        "print(\"I'm using the r.strip function which will erase the extra spaces on the right only\")\n",
        "word='  python is great  '\n",
        "newword=word.rstrip()\n",
        "print(word)\n",
        "print(newword)"
      ],
      "metadata": {
        "colab": {
          "base_uri": "https://localhost:8080/"
        },
        "id": "1crvWHU3ei9O",
        "outputId": "cbfc4b92-472b-41f5-c485-b8576b749abf"
      },
      "execution_count": null,
      "outputs": [
        {
          "output_type": "stream",
          "name": "stdout",
          "text": [
            "  my name is \t Noor Zahra    \n",
            "\n",
            "\n",
            "Im using the strip function here which will erase the extra spaces\n",
            "   python is cool  \n",
            "python is cool\n",
            "\n",
            "\n",
            "I'm using the l.strip function which will erase the extra spaces on the left only\n",
            "   python is easy \n",
            "python is easy \n",
            "\n",
            "\n",
            "I'm using the r.strip function which will erase the extra spaces on the right only\n",
            "  python is great  \n",
            "  python is great\n"
          ]
        }
      ]
    },
    {
      "cell_type": "markdown",
      "source": [
        "**Exercise 4:**\n",
        "\n",
        "Use a variable to represent your favorite number. Then,using that variable, create a message that reveals your favorite number. Print\n",
        "that message."
      ],
      "metadata": {
        "id": "SchOpn-gq9Ir"
      }
    },
    {
      "cell_type": "code",
      "source": [
        "a=input(\"Enter your favorite number \") \n",
        "print(\"my favourite number is\", a)"
      ],
      "metadata": {
        "id": "Y7_usyRcvaSw",
        "colab": {
          "base_uri": "https://localhost:8080/"
        },
        "outputId": "c25cff50-b601-4316-d89e-0599b1d07ded"
      },
      "execution_count": null,
      "outputs": [
        {
          "output_type": "stream",
          "name": "stdout",
          "text": [
            "Enter your favorite number 66\n",
            "my favourite number is 66\n"
          ]
        }
      ]
    },
    {
      "cell_type": "markdown",
      "source": [
        "**Exercise 5:**\n",
        "\n",
        "A girl heads to a computer shop to buy some USB sticks. She loves USB sticks and wants as many as she can get for £50. They are £6 each.\n",
        "\n",
        "Write a programme that calculates how many USB sticks she can buy and how many pounds she will have left.\n",
        "\n",
        "You will to use the arithmetic operators to complete this exercise."
      ],
      "metadata": {
        "id": "c6f88oLSq9q7"
      }
    },
    {
      "cell_type": "code",
      "source": [
        "m=input(\"Enter current money at hand \") \n",
        "ip=input(\"Enter item price \")\n",
        "\n",
        "ai=int(m)/int(ip)              #ai is the amount of items you can buy\n",
        "change=int(m)%int(ip)           #getting remainder for finding change\n",
        "\n",
        "print(\"\\n\")\n",
        "\n",
        "print(\"the amount of items you can buy:\", int(ai))\n",
        "print(\"your change: \", int(change))"
      ],
      "metadata": {
        "colab": {
          "base_uri": "https://localhost:8080/"
        },
        "id": "aQ3P8Oav9nAs",
        "outputId": "7afa4cdc-4806-48ab-9ab1-99c9d351f3d0"
      },
      "execution_count": null,
      "outputs": [
        {
          "output_type": "stream",
          "name": "stdout",
          "text": [
            "Enter current money at hand 50\n",
            "Enter item price 6\n",
            "\n",
            "\n",
            "the amount of items you can buy: 8\n",
            "your change:  2\n"
          ]
        }
      ]
    }
  ]
}