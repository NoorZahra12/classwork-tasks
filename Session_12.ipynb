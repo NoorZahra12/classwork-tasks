{
  "nbformat": 4,
  "nbformat_minor": 0,
  "metadata": {
    "colab": {
      "provenance": [],
      "authorship_tag": "ABX9TyOUsw/g3ygWT6CYwa1j65wj",
      "include_colab_link": true
    },
    "kernelspec": {
      "name": "python3",
      "display_name": "Python 3"
    },
    "language_info": {
      "name": "python"
    }
  },
  "cells": [
    {
      "cell_type": "markdown",
      "metadata": {
        "id": "view-in-github",
        "colab_type": "text"
      },
      "source": [
        "<a href=\"https://colab.research.google.com/github/NoorZahra12/classwork-tasks/blob/main/Session_12.ipynb\" target=\"_parent\"><img src=\"https://colab.research.google.com/assets/colab-badge.svg\" alt=\"Open In Colab\"/></a>"
      ]
    },
    {
      "cell_type": "markdown",
      "source": [
        "Program 1:  Write a program to convert Kilometer to miles"
      ],
      "metadata": {
        "id": "ms22YCc-HNo4"
      }
    },
    {
      "cell_type": "code",
      "source": [
        "print(\"Enter a number for kilometer\")\n",
        "km=int(input()) #user can enter any number as kilometer\n",
        "m=int(km)*0.621371 #formula\n",
        "print(\"miles= \",m)"
      ],
      "metadata": {
        "colab": {
          "base_uri": "https://localhost:8080/"
        },
        "id": "Y7BKS6GSIt2A",
        "outputId": "aeae943d-f771-465b-f83e-d6fa97ebdac6"
      },
      "execution_count": 2,
      "outputs": [
        {
          "output_type": "stream",
          "name": "stdout",
          "text": [
            "Enter a number for kilometer\n",
            "77\n",
            "miles=  47.845567\n"
          ]
        }
      ]
    },
    {
      "cell_type": "markdown",
      "source": [
        "Program 2:  Write a program to convert temperature in Celsius to Fahrenheit"
      ],
      "metadata": {
        "id": "op3b4RCSHRkk"
      }
    },
    {
      "cell_type": "code",
      "source": [
        "print(\"Enter a number in celsius to find out fahrenheit\")\n",
        "c=int(input()) #celsius number is what the user inputs\n",
        "f=int(c)*1.8+32 #formula for converting fahrenheit into celsius\n",
        "print(\"fahrenheit\",f)"
      ],
      "metadata": {
        "colab": {
          "base_uri": "https://localhost:8080/"
        },
        "id": "ewEoj90pJd8I",
        "outputId": "d26841d8-5f4b-43b1-f02b-2811670e3aa6"
      },
      "execution_count": 3,
      "outputs": [
        {
          "output_type": "stream",
          "name": "stdout",
          "text": [
            "Enter a number in celsius to find out fahrenheit\n",
            "5\n",
            "fahrenheit 41.0\n"
          ]
        }
      ]
    },
    {
      "cell_type": "code",
      "source": [
        "print(\"What temperature would you like to find out: fahrenhit or celsius?\")\n",
        "print(\"Please write f or c\")\n",
        "t=input() #user can select the temperature he wants to find out\n",
        "if t == \"c\":\n",
        "  n=input(\"type fahrenheit \") #user is asked to type a fahrenheit number to find out celsius\n",
        "  c=(int(n)-32)*1.8 #formula for converting fahrenheit into celsius\n",
        "  print(\"celsius\",c)\n",
        "elif t == \"f\":\n",
        "  n=input(\"type celsius \") #user is asked to type a celsius number to find out fahrenheit\n",
        "  f=int(n)*1.8+32 #formula for converting celsius into fahrenheit\n",
        "  print(\"fahrenheit\",f)"
      ],
      "metadata": {
        "colab": {
          "base_uri": "https://localhost:8080/"
        },
        "id": "V7sR0BPHt16s",
        "outputId": "88b15c63-5824-4ce6-f8c7-507067acbd7b"
      },
      "execution_count": 58,
      "outputs": [
        {
          "output_type": "stream",
          "name": "stdout",
          "text": [
            "What temperature would you like to find out: fahrenhit or celsius?\n",
            "Please write f or c\n",
            "f\n",
            "type a number 55\n",
            "fahrenheit 131.0\n"
          ]
        }
      ]
    },
    {
      "cell_type": "markdown",
      "source": [
        "Program 3:  Write a program to Check if a Number is Positive, Negative or 0\n"
      ],
      "metadata": {
        "id": "oT-xMphZHSRk"
      }
    },
    {
      "cell_type": "code",
      "source": [
        "print(\"Enter a number\")\n",
        "n=int(input()) #user can type any number\n",
        "if n>=0: #if the number is 0 or greater than 0 then it is a positive number\n",
        "  print(\"the number you entered is a positive number\")\n",
        "else: #if the number user types is less than 0 then it is a negative number\n",
        "  print(\"the number you entered is a negative number\")"
      ],
      "metadata": {
        "colab": {
          "base_uri": "https://localhost:8080/"
        },
        "id": "Ayu71bNbKz_d",
        "outputId": "5bd6cb78-c4ff-4979-c451-b4fb63af9e47"
      },
      "execution_count": 8,
      "outputs": [
        {
          "output_type": "stream",
          "name": "stdout",
          "text": [
            "Enter a number\n",
            "0\n",
            "the number you entered is a positive number\n"
          ]
        }
      ]
    },
    {
      "cell_type": "markdown",
      "source": [
        "Program 4:  Write a Program to Check Prime Number\n",
        "Hint: Prime numbers are only divisible by itself and are greater than 1. e.g. 2,5,11,13,19,….."
      ],
      "metadata": {
        "id": "8ArPWqneHSsP"
      }
    },
    {
      "cell_type": "code",
      "source": [
        "n=int(input())\n",
        "if n>1:\n",
        "  for i in range(2,n):\n",
        "    if (n%i)==0:\n",
        "     print(n,\"is not a prime number\")\n",
        "     break\n",
        "  else:\n",
        "    print(n,\"is a prime number\")\n",
        "else:\n",
        "  (n,\"is not a prime number\")"
      ],
      "metadata": {
        "colab": {
          "base_uri": "https://localhost:8080/"
        },
        "id": "DJAsmgl0MJIn",
        "outputId": "3d3d7b97-544b-43e5-e4e6-286fa2bd4c74"
      },
      "execution_count": 22,
      "outputs": [
        {
          "output_type": "stream",
          "name": "stdout",
          "text": [
            "13\n",
            "13 is a prime number\n"
          ]
        }
      ]
    },
    {
      "cell_type": "markdown",
      "source": [
        "Program 5:  Write a Program to Display the multiplication Table"
      ],
      "metadata": {
        "id": "hPsG_6nEHTAX"
      }
    },
    {
      "cell_type": "code",
      "source": [
        "print(\"Enter a number you want to make a multiplication table\")\n",
        "n=int(input()) #user can input any number\n",
        "print(\"how many lines of multiplication do you want\")\n",
        "x=int(input()) #asking user many rows of multiplication he wants\n",
        "\n",
        "for i in range(1,x+1): #using for loop and naming every element inside the range as i\n",
        "  print(n,'x',i,'=',n*i) #displaying the table starting from the number user wants and its rows"
      ],
      "metadata": {
        "colab": {
          "base_uri": "https://localhost:8080/"
        },
        "id": "iSgF8KSjDZVP",
        "outputId": "c6b2c441-5239-4126-d061-f08905ab86bd"
      },
      "execution_count": 27,
      "outputs": [
        {
          "output_type": "stream",
          "name": "stdout",
          "text": [
            "Enter a number you want to make a multiplication table\n",
            "8\n",
            "how many lines of multiplication do you want\n",
            "12\n",
            "8 x 1 = 8\n",
            "8 x 2 = 16\n",
            "8 x 3 = 24\n",
            "8 x 4 = 32\n",
            "8 x 5 = 40\n",
            "8 x 6 = 48\n",
            "8 x 7 = 56\n",
            "8 x 8 = 64\n",
            "8 x 9 = 72\n",
            "8 x 10 = 80\n",
            "8 x 11 = 88\n",
            "8 x 12 = 96\n"
          ]
        }
      ]
    },
    {
      "cell_type": "markdown",
      "source": [
        "Program 6:  Write a  Program to Print the Fibonacci series\n",
        "Hint: A Fibonacci sequence is the integer sequence of 0, 1, 1, 2, 3, 5, 8....\n",
        "The first two terms are 0 and 1. All other terms are obtained by adding the preceding two terms. This means to say the nth term is the sum of (n-1)th and (n-2)th term."
      ],
      "metadata": {
        "id": "GmlTl6_RHTWt"
      }
    },
    {
      "cell_type": "code",
      "source": [
        "#asking user how many terms he wants to print or display\n",
        "nterm=int(input(\"enter the amount of terms you want of the fibonacci series \"))\n",
        "n=1\n",
        "n1=0   #this is the 1st number of the sequence\n",
        "n2=1   #this is the 2nd number of the sequence\n",
        "for i in range(0,nterm): #using for loop and naming every element inside the sequence as i strating from 0 until the term the user wants\n",
        "  print(n) #printing n as it is as 1\n",
        "  n=n1+n2 #new term is the addition of the previous two terms\n",
        "  n1=n2 #changing the n1 into the next number\n",
        "  n2=n #also changing n2 to the next number"
      ],
      "metadata": {
        "colab": {
          "base_uri": "https://localhost:8080/"
        },
        "id": "DKKewbZtTUV0",
        "outputId": "400c2b51-64f2-4d06-fdce-9f50986ca86a"
      },
      "execution_count": 15,
      "outputs": [
        {
          "output_type": "stream",
          "name": "stdout",
          "text": [
            "enter the amount of terms you want of the fibonacci series 5\n",
            "1\n",
            "1\n",
            "2\n",
            "3\n",
            "5\n"
          ]
        }
      ]
    },
    {
      "cell_type": "markdown",
      "source": [
        "Program 7:  Write a program to check if a string is palindrome or not\n",
        "Hint: A palindrome is a string that is the same read forward or backward. For example, \"dad\" is the same in forward or reverse direction. "
      ],
      "metadata": {
        "id": "dNr7jFPnHTuI"
      }
    },
    {
      "cell_type": "code",
      "source": [
        "word=str(input(\"type any word \")) #user can type any word\n",
        "print(list(word))\n",
        "\n",
        "r=reversed(list(word)) #reversing the order of the word list\n",
        "print(list(r))\n",
        "\n",
        "if list(word) == list(r): #checking if the word and the reversed word are equal\n",
        "  print(word,\"is a palindrome\") #this message is displayed if the condition is true\n",
        "else:\n",
        "  print(word,\"is not a palindrome\") #this message is displayed if the condition is false\n",
        "\n",
        "\n",
        "#the output keeps saying it is not a palindrome even if the word is palindrome\n",
        "#maybe because the reverse list and the original list's elements are stored differently because its a list\n",
        "#so i researched how to reverse a word directly without involving lists(with google's help)\n",
        "#r=word[::-1]"
      ],
      "metadata": {
        "colab": {
          "base_uri": "https://localhost:8080/"
        },
        "id": "nahnjF90bxZZ",
        "outputId": "7432966a-e09d-4483-af45-b8a716be9578"
      },
      "execution_count": 28,
      "outputs": [
        {
          "output_type": "stream",
          "name": "stdout",
          "text": [
            "type any word level\n",
            "['l', 'e', 'v', 'e', 'l']\n",
            "['l', 'e', 'v', 'e', 'l']\n",
            "level is not a palindrome\n"
          ]
        }
      ]
    },
    {
      "cell_type": "code",
      "source": [
        "word=str(input(\"type any word \")) #user can type any word\n",
        "print(word)\n",
        "\n",
        "r=word[::-1]\n",
        "print(r)\n",
        "\n",
        "if word == r: #checking if the word and the reversed word are equal\n",
        "  print(word,\"is a palindrome\") #this message is displayed if the condition is true\n",
        "else:\n",
        "  print(word,\"is not a palindrome\") #this message is displayed if the condition is false"
      ],
      "metadata": {
        "colab": {
          "base_uri": "https://localhost:8080/"
        },
        "id": "5dGiuA4kU7gS",
        "outputId": "dd9e2ef6-4453-429f-9b53-e312c44cec3c"
      },
      "execution_count": 32,
      "outputs": [
        {
          "output_type": "stream",
          "name": "stdout",
          "text": [
            "type any word dad\n",
            "dad\n",
            "dad\n",
            "dad is a palindrome\n"
          ]
        }
      ]
    },
    {
      "cell_type": "markdown",
      "source": [
        "Program 8:  Write a Program to Merge Two Dictionaries\n",
        "Hints: use ** to unpack dictionaries dictionary 1 and dictionary 2. Then, the dictionaries are merged by placing them inside {}"
      ],
      "metadata": {
        "id": "LX8Fb0nsHUBH"
      }
    },
    {
      "cell_type": "code",
      "source": [
        "dictionary1={\"Name\":\"noor\",\"Second name\":\"zahra\",\"Age\":18}\n",
        "dictionary2={\"name\":\"asma\",\"second name\":\"salah\",\"age\":18}\n",
        "print({**dictionary1,**dictionary2}) #printing both distionaries"
      ],
      "metadata": {
        "colab": {
          "base_uri": "https://localhost:8080/"
        },
        "id": "rkoBuFnATgTA",
        "outputId": "c8e25fee-6d1e-4ff3-bc04-e6f8aa6f8229"
      },
      "execution_count": 75,
      "outputs": [
        {
          "output_type": "stream",
          "name": "stdout",
          "text": [
            "{'Name': 'noor', 'Second name': 'zahra', 'Age': 18, 'name': 'asma', 'second name': 'salah', 'age': 18}\n"
          ]
        }
      ]
    },
    {
      "cell_type": "code",
      "source": [
        "dictionary1={\"Name\":\"noor\",\"Second name\":\"zahra\",\"Age\":18}\n",
        "dictionary2={\"name\":\"asma\",\"second name\":\"salah\",\"age\":18}\n",
        "dictionary={**dictionary1,**dictionary2} #merging both dictionary and storing it in a variable\n",
        "print(dictionary) #printing the new variable"
      ],
      "metadata": {
        "colab": {
          "base_uri": "https://localhost:8080/"
        },
        "id": "8ym8RkrZfhfv",
        "outputId": "7c364ebc-d32b-46d3-f719-90e087db1069"
      },
      "execution_count": 76,
      "outputs": [
        {
          "output_type": "stream",
          "name": "stdout",
          "text": [
            "{'Name': 'noor', 'Second name': 'zahra', 'Age': 18, 'name': 'asma', 'second name': 'salah', 'age': 18}\n"
          ]
        }
      ]
    },
    {
      "cell_type": "markdown",
      "source": [
        "Program 9:  Write a  program to Count the Number of repeated letter in a String\n",
        "\n"
      ],
      "metadata": {
        "id": "D6-iOHLVHUSW"
      }
    },
    {
      "cell_type": "code",
      "source": [
        "print(\"Enter a word\")\n",
        "word=input() #user can put any number\n",
        "\n",
        "print(\"Enter the letter you want to count\")\n",
        "letter=input() #user can select any letter that he wants to be counted from the word he inputs\n",
        "\n",
        "count=0 #making count a variable and storing 0 as its value\n",
        "\n",
        "for i in word: #making i a variable for every letter in word\n",
        "  if str(letter)==i: #checking if the letter user wants to count is inside the word he typed\n",
        "   count+=1 #counting every letter or i inside the word and adding itself inside the count variable\n",
        "\n",
        " #printing the amount of letters repeated in the word user inputs\n",
        "print(\"the number of\",letter,\"repeated in\",word,\"are:\",count) #printing the amount of letters repeated in the word user inputs"
      ],
      "metadata": {
        "colab": {
          "base_uri": "https://localhost:8080/"
        },
        "id": "kbBr9I7toSiW",
        "outputId": "95310d43-69d7-4c4e-b0fc-ba9336f97084"
      },
      "execution_count": 44,
      "outputs": [
        {
          "output_type": "stream",
          "name": "stdout",
          "text": [
            "Enter a word\n",
            "sleeeep\n",
            "Enter the letter you want to count\n",
            "e\n",
            "the number of e repeated in sleeeep are: 4\n"
          ]
        }
      ]
    },
    {
      "cell_type": "markdown",
      "source": [
        "Program 10:  Write a program to find the largest number among the three input numbers\n",
        "\n"
      ],
      "metadata": {
        "id": "xEF8IKx6HUlW"
      }
    },
    {
      "cell_type": "code",
      "source": [
        "#getting 3 numbers from user\n",
        "n1=input(\"Enter 1st number \")\n",
        "n2=input(\"Enter 2nd number \")\n",
        "n3=input(\"Enter 3rd number \")\n",
        "\n",
        "#checking if n1 is greater than n2 and n3\n",
        "if n1 >n2>n3:\n",
        "  print(n1,\"is the largest number\")\n",
        "elif n1 >n3>n2:\n",
        "  print(n1,\"is the largest number\")\n",
        "\n",
        "#checking if n2 is greater than n1 and n3\n",
        "elif n2 >n1>n3:\n",
        "  print(n2,\"is the largest number\")\n",
        "elif n2 > \n",
        "  print(n2,\"is the largest number\")\n",
        "\n",
        "#checking if n3 is greater than n1 and n2\n",
        "elif n3 >n1>n2:\n",
        "  print(n3,\"is the largest number\")\n",
        "elif n3 >n2>n1:\n",
        "  print(n3,\"is the largest number\")"
      ],
      "metadata": {
        "colab": {
          "base_uri": "https://localhost:8080/"
        },
        "id": "nTgskXXHQj_6",
        "outputId": "f6a9c1b7-bde8-4913-f898-08f1047e196f"
      },
      "execution_count": 42,
      "outputs": [
        {
          "output_type": "stream",
          "name": "stdout",
          "text": [
            "Enter 1st number 45\n",
            "Enter 2nd number 543\n",
            "Enter 3rd number 765\n",
            "765 is the largest number\n"
          ]
        }
      ]
    },
    {
      "cell_type": "code",
      "source": [
        "print(\"Enter the numbers\")\n",
        "n1=input()\n",
        "n2=input()\n",
        "n3=input()\n",
        "if n1>n2 and n1>n3:  #checking if n1 is greater than both n2 and n3\n",
        "  print(n1,\"is the largest number\")\n",
        "elif n2>n1 and n2>n3: #checking if n2 is greater than both n1 and n3\n",
        "   print(n2,\"is the largest number\")\n",
        "else: #if the other two condition is false then n3 is the greatest\n",
        "  print(n3,\"is the largest number\")"
      ],
      "metadata": {
        "colab": {
          "base_uri": "https://localhost:8080/"
        },
        "id": "XvHUNH9oaGO-",
        "outputId": "355e33f8-02ab-4ef3-d867-781c67282f73"
      },
      "execution_count": 1,
      "outputs": [
        {
          "output_type": "stream",
          "name": "stdout",
          "text": [
            "Enter the numbers\n",
            "7\n",
            "9\n",
            "5\n",
            "9 is the largest number\n"
          ]
        }
      ]
    }
  ]
}