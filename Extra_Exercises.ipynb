{
  "nbformat": 4,
  "nbformat_minor": 0,
  "metadata": {
    "colab": {
      "provenance": [],
      "authorship_tag": "ABX9TyNNIw62OygZB0CMDQBP//Vr",
      "include_colab_link": true
    },
    "kernelspec": {
      "name": "python3",
      "display_name": "Python 3"
    },
    "language_info": {
      "name": "python"
    }
  },
  "cells": [
    {
      "cell_type": "markdown",
      "metadata": {
        "id": "view-in-github",
        "colab_type": "text"
      },
      "source": [
        "<a href=\"https://colab.research.google.com/github/NoorZahra12/classwork-tasks/blob/main/Extra_Exercises.ipynb\" target=\"_parent\"><img src=\"https://colab.research.google.com/assets/colab-badge.svg\" alt=\"Open In Colab\"/></a>"
      ]
    },
    {
      "cell_type": "code",
      "execution_count": null,
      "metadata": {
        "colab": {
          "base_uri": "https://localhost:8080/"
        },
        "id": "Q90Lcjrw0gwW",
        "outputId": "a0508378-f313-4cfd-f7d0-0e7e795044fd"
      },
      "outputs": [
        {
          "output_type": "stream",
          "name": "stdout",
          "text": [
            "1\n",
            "2\n",
            "3\n",
            "4\n",
            "5\n",
            "6\n",
            "7\n",
            "8\n",
            "9\n",
            "10\n"
          ]
        }
      ],
      "source": [
        "a=1\n",
        "while a<=10: #this loop will keep repeating until 'a' is smaller than 10 or equal to 10\n",
        "  print(a) #printing the number\n",
        "  a+=1 #adding 1 to itself"
      ]
    },
    {
      "cell_type": "code",
      "source": [
        "a=1\n",
        "while a<=10: #this loop will keep repeating until 'a' is smaller than 10 or equal to 10\n",
        "  print(a) #printing the number\n",
        "  a+=2  #adding 1 to itself"
      ],
      "metadata": {
        "colab": {
          "base_uri": "https://localhost:8080/"
        },
        "id": "Bwx5g57k2HvA",
        "outputId": "af871d9c-4342-4036-ae05-647541148060"
      },
      "execution_count": null,
      "outputs": [
        {
          "output_type": "stream",
          "name": "stdout",
          "text": [
            "1\n",
            "3\n",
            "5\n",
            "7\n",
            "9\n"
          ]
        }
      ]
    },
    {
      "cell_type": "code",
      "source": [
        "a=0\n",
        "while a<10: #loop will run until a is less than 10 so the loop will stop at 10\n",
        "  a+=1 #increasing itself by 1\n",
        "  if a%2==0: #if remainder of 'a' divided by 2 is 0\n",
        "    continue\n",
        "  print(a)\n",
        "print(\"Loop terminated as number exceeds 10\")"
      ],
      "metadata": {
        "colab": {
          "base_uri": "https://localhost:8080/"
        },
        "id": "SuAZuiuH2NWH",
        "outputId": "05229bb6-8c12-43ec-cb5e-aef72183b344"
      },
      "execution_count": 5,
      "outputs": [
        {
          "output_type": "stream",
          "name": "stdout",
          "text": [
            "1\n",
            "3\n",
            "5\n",
            "7\n",
            "9\n",
            "Loop terminated as number exceeds 10\n"
          ]
        }
      ]
    },
    {
      "cell_type": "code",
      "source": [
        "flowers=['lily','rose','tulip','jasmine']\n",
        "for x in flowers: #naming the elements of flowers as x\n",
        "  print(x) #printing x"
      ],
      "metadata": {
        "colab": {
          "base_uri": "https://localhost:8080/"
        },
        "id": "6-px-psC2Pqi",
        "outputId": "dfe6627f-4702-4fd4-8a9a-c784e1da1c57"
      },
      "execution_count": null,
      "outputs": [
        {
          "output_type": "stream",
          "name": "stdout",
          "text": [
            "lily\n",
            "rose\n",
            "tulip\n",
            "jasmine\n"
          ]
        }
      ]
    },
    {
      "cell_type": "code",
      "source": [
        "student={'name':'Noor Zahra','id':46378,'course':'BSC CC'}\n",
        "#Printing the information of student to display value calling the keys\n",
        "print(student['name'])\n",
        "print(student['id'])\n",
        "print(student['course'])"
      ],
      "metadata": {
        "colab": {
          "base_uri": "https://localhost:8080/"
        },
        "id": "4N_SJGDF2TDM",
        "outputId": "552b2882-ecb1-45e0-e497-fd47e0cc70e8"
      },
      "execution_count": null,
      "outputs": [
        {
          "output_type": "stream",
          "name": "stdout",
          "text": [
            "Noor Zahra\n",
            "46378\n",
            "BSC CC\n"
          ]
        }
      ]
    },
    {
      "cell_type": "code",
      "source": [
        "student={'name':'Noor Zahra','id':46378,'course':'BSC CC'}\n",
        "for key, value in student.items():\n",
        "  print(f\"\\nkey:{key}\") #printing 1 key only\n",
        "  print(f\"\\nvalue:{value}\") #printing the 1 value only\n",
        "  \n",
        "  print(\"\\nDisplay only keys\")\n",
        "  for key in student.keys():\n",
        "    print(key) #printing all the keys in dictionary\n",
        "\n",
        "  print(\"\\nDisplay only values\")\n",
        "  for value in student.values():\n",
        "    print(value) #printing all the keys in dictionary"
      ],
      "metadata": {
        "colab": {
          "base_uri": "https://localhost:8080/"
        },
        "id": "vsAk55z32Vee",
        "outputId": "e018aadb-e6d5-40ff-e3c9-63101ad834fa"
      },
      "execution_count": null,
      "outputs": [
        {
          "output_type": "stream",
          "name": "stdout",
          "text": [
            "\n",
            "key:name\n",
            "\n",
            "value:Noor Zahra\n",
            "\n",
            "Display only keys\n",
            "name\n",
            "id\n",
            "course\n",
            "\n",
            "Display only values\n",
            "Noor Zahra\n",
            "46378\n",
            "BSC CC\n",
            "\n",
            "key:id\n",
            "\n",
            "value:46378\n",
            "\n",
            "Display only keys\n",
            "name\n",
            "id\n",
            "course\n",
            "\n",
            "Display only values\n",
            "Noor Zahra\n",
            "46378\n",
            "BSC CC\n",
            "\n",
            "key:course\n",
            "\n",
            "value:BSC CC\n",
            "\n",
            "Display only keys\n",
            "name\n",
            "id\n",
            "course\n",
            "\n",
            "Display only values\n",
            "Noor Zahra\n",
            "46378\n",
            "BSC CC\n"
          ]
        }
      ]
    },
    {
      "cell_type": "code",
      "source": [
        "student={'name':'Noor Zahra','id':46378,'course':'BSC CC'}\n",
        "print('Display key-value pairs')\n",
        "for key, value in student.items(): #making a variable name for both key and value\n",
        " print(f\"\\nkey:{key}\") #printing the key of the list\n",
        " print(f\"value:{value}\") #printing the value of the list\n",
        "#adding a information about student\n",
        "student['gender']='Female' #adding a new key and value\n",
        "print(student) #printing the dictionary"
      ],
      "metadata": {
        "colab": {
          "base_uri": "https://localhost:8080/"
        },
        "id": "uhm5sSth2kB9",
        "outputId": "20eb65d0-8875-448f-c01b-d6d74ff0370d"
      },
      "execution_count": null,
      "outputs": [
        {
          "output_type": "stream",
          "name": "stdout",
          "text": [
            "Display key-value pairs\n",
            "\n",
            "key:name\n",
            "value:Noor Zahra\n",
            "\n",
            "key:id\n",
            "value:46378\n",
            "\n",
            "key:course\n",
            "value:BSC CC\n",
            "{'name': 'Noor Zahra', 'id': 46378, 'course': 'BSC CC', 'gender': 'Female'}\n"
          ]
        }
      ]
    },
    {
      "cell_type": "code",
      "source": [
        "#writing the information about 4 students\n",
        "student1={'name':'Noor','id':46378,'course':'BSC CC'}\n",
        "student2={'name':'rhea','id':46367,'course':'BSC CC'}\n",
        "student3={'name':'faiza','id':46456,'course':'BSC CC'}\n",
        "student4={'name':'asma','id':46471,'course':'BSC CC'}\n",
        "#making a list of dictionary to combine all the students information in one variable list\n",
        "student=[student1,student2,student3,student4]\n",
        "for std in student: #naming the elements of the list as std\n",
        "  print(std) #printing all the elements of the dictionary list"
      ],
      "metadata": {
        "colab": {
          "base_uri": "https://localhost:8080/"
        },
        "id": "Gw3nRcOu2nNK",
        "outputId": "d8116d51-1ee9-4f29-e6be-8907faf6b6a0"
      },
      "execution_count": null,
      "outputs": [
        {
          "output_type": "stream",
          "name": "stdout",
          "text": [
            "{'name': 'Noor', 'id': 46378, 'course': 'BSC CC'}\n",
            "{'name': 'rhea', 'id': 46367, 'course': 'BSC CC'}\n",
            "{'name': 'faiza', 'id': 46456, 'course': 'BSC CC'}\n",
            "{'name': 'asma', 'id': 46471, 'course': 'BSC CC'}\n"
          ]
        }
      ]
    },
    {
      "cell_type": "code",
      "source": [
        "def greet(username): #defining a function\n",
        "  print(f\"Hello {username.title()} to python world!\") #giving a message to my function\n",
        "greet('Noor') #inputing username as noor and calling the greet function so it will print the function"
      ],
      "metadata": {
        "colab": {
          "base_uri": "https://localhost:8080/"
        },
        "id": "j5XWJGEo2tbp",
        "outputId": "4f0f3f06-6a8d-4258-e11f-b7437b197073"
      },
      "execution_count": null,
      "outputs": [
        {
          "output_type": "stream",
          "name": "stdout",
          "text": [
            "Hello Noor to python world!\n"
          ]
        }
      ]
    },
    {
      "cell_type": "code",
      "source": [
        "def display_message(): #defining a function\n",
        "  print(\"Hello python world!\") #assigning a message to function\n",
        "display_message() #calling function"
      ],
      "metadata": {
        "colab": {
          "base_uri": "https://localhost:8080/"
        },
        "id": "pN0dbtET2vdh",
        "outputId": "c3eeceb2-1074-4da0-a755-8206dda7d4ce"
      },
      "execution_count": null,
      "outputs": [
        {
          "output_type": "stream",
          "name": "stdout",
          "text": [
            "Hello python world!\n"
          ]
        }
      ]
    },
    {
      "cell_type": "code",
      "source": [
        "topping='\\n What toppings would like to on your pizza?'\n",
        "topping+='\\n Enter quit when you are done '\n",
        "while True:\n",
        "  toppings=input(topping) #user can input any string as topping of the pizza\n",
        "  if toppings==\"quit\": #if the user enters quit then following instructions will be followed\n",
        "    break #this stops the loop"
      ],
      "metadata": {
        "colab": {
          "base_uri": "https://localhost:8080/"
        },
        "id": "ELqcJyVG2yXE",
        "outputId": "f81b796c-13b8-4eb1-dac7-75f6d6fe7aea"
      },
      "execution_count": null,
      "outputs": [
        {
          "name": "stdout",
          "output_type": "stream",
          "text": [
            "\n",
            " What toppings would like to on your pizza?\n",
            " Enter quit when you are done olives\n",
            "Olives !\n",
            "\n",
            " What toppings would like to on your pizza?\n",
            " Enter quit when you are done cheese\n",
            "Cheese !\n",
            "\n",
            " What toppings would like to on your pizza?\n",
            " Enter quit when you are done quit\n"
          ]
        }
      ]
    },
    {
      "cell_type": "code",
      "source": [
        "number=input('Enter any number ') #user can put any number\n",
        "if int(number)>0:\n",
        "#if the number entered by user the greater than 0 then the following message will be displayed\n",
        "  print(number,\"is positive\")"
      ],
      "metadata": {
        "colab": {
          "base_uri": "https://localhost:8080/"
        },
        "id": "KRKWr25o245b",
        "outputId": "7710d934-1f14-47ee-f7f6-83f39621dd52"
      },
      "execution_count": null,
      "outputs": [
        {
          "output_type": "stream",
          "name": "stdout",
          "text": [
            "Enter any number 567\n",
            "567 is positive\n"
          ]
        }
      ]
    },
    {
      "cell_type": "code",
      "source": [
        "number1=input('Enter any number ') #user entering first number\n",
        "number2=input('Enter any number ') #user entering second number\n",
        "if int(number1)<int(number2): #if the condition of number 1 being smaller than number 2 is true,then the following message will be displayed\n",
        "  print(number1,\" is smaller than the second number \", number2) \n",
        "else: #otherwise if the condition is false the following message will be displayed\n",
        "   print(number1,\" is bigger than the second number \", number2)"
      ],
      "metadata": {
        "colab": {
          "base_uri": "https://localhost:8080/"
        },
        "id": "cxLEVwdg27Sl",
        "outputId": "df211518-093d-4ce6-9409-e4660b9590e6"
      },
      "execution_count": null,
      "outputs": [
        {
          "output_type": "stream",
          "name": "stdout",
          "text": [
            "Enter any number 4\n",
            "Enter any number 6\n",
            "4  is smaller than the second number  6\n"
          ]
        }
      ]
    },
    {
      "cell_type": "code",
      "source": [
        "print('enter 1st number')\n",
        "x=int(input()) #user can input any number\n",
        "print('enter 2nd number')\n",
        "y=int(input()) #user can input any number\n",
        "if x<y: #if x is smaller than y then the following message will be displayed\n",
        "   print(x,\" is smaller than the second number \",y)\n",
        "else: #otherwise if the condition is false the following message will be displayed\n",
        "   print(x,\" is smaller than the second number \",y)"
      ],
      "metadata": {
        "colab": {
          "base_uri": "https://localhost:8080/"
        },
        "id": "Z2Vdrtdc3Bjv",
        "outputId": "ff614bf6-5ca5-4d25-ca12-a8cb8cab94f5"
      },
      "execution_count": null,
      "outputs": [
        {
          "output_type": "stream",
          "name": "stdout",
          "text": [
            "enter 1st number\n",
            "4\n",
            "enter 2nd number\n",
            "77\n",
            "4  is smaller than the second number  77\n"
          ]
        }
      ]
    },
    {
      "cell_type": "code",
      "source": [
        "print('Are you in US or Australia')\n",
        "c=str(input()) #user can type either one country from the options given above\n",
        "print('write the amount of shipments you want to make')\n",
        "s=int(input()) #user can put any number for the amount of shipments they have\n",
        "if c==\"US\": #if the country is US the following instructions will be followed\n",
        " if s==50: #if shipment is 50 then\n",
        "  print('your bill is 50 each')\n",
        " elif s>50:\n",
        "  print('your bill is 25 each')\n",
        "\n",
        "elif c==\"Australia\":\n",
        "  if s==100:\n",
        "   print('your bill is 50 each')\n",
        "  elif s>100:\n",
        "   print('your bill is 25 each')"
      ],
      "metadata": {
        "colab": {
          "base_uri": "https://localhost:8080/"
        },
        "id": "RJFsPcE73Okf",
        "outputId": "33d47f1b-5583-4bab-d909-db8301e727f5"
      },
      "execution_count": null,
      "outputs": [
        {
          "output_type": "stream",
          "name": "stdout",
          "text": [
            "Are you in US or Australia\n",
            "US\n",
            "write the amount of shipments you want to make\n",
            "60\n",
            "your bill is 25 each\n"
          ]
        }
      ]
    },
    {
      "cell_type": "code",
      "source": [
        "print('Is alien color green, yellow or red')\n",
        "x=str(input()) #user can enter the color in this input box and it will be stored in a variable called x\n",
        "\n",
        "if x == \"green\": # if the user types green the following message will be displayed that the user earned 5 points\n",
        "  print('player got 5 point')\n",
        "if x == \"yellow\": # if the user types yellow the following message will be displayed that the user earned 10 points\n",
        "  print('player got 10 point')\n",
        "elif x==\"red\": # if the user types red the following message will be displayed that the user earned 15 points\n",
        "  print('you get 15 points')\n",
        "else: # if the user types a different color then the user has earned 0 points\n",
        "  print('you get 0 points')"
      ],
      "metadata": {
        "colab": {
          "base_uri": "https://localhost:8080/"
        },
        "id": "i3rRERha3RJx",
        "outputId": "75dfeb4a-f2d5-4782-a43e-8a9800423f3b"
      },
      "execution_count": null,
      "outputs": [
        {
          "output_type": "stream",
          "name": "stdout",
          "text": [
            "Is alien color green, yellow or red\n",
            "green\n",
            "player got 5 point\n",
            "you get 0 points\n"
          ]
        }
      ]
    },
    {
      "cell_type": "code",
      "source": [
        "a=input(\"Enter first number\") #asking user to write a number which will be stored in a variable called a\n",
        "b=input(\"Enter second number\") #asking user to write a second number which will be stored in a variable called b\n",
        "add=(a+b) #making a variable called add and putting the add formula for the computer to calculate or process\n",
        "print(\"the addition of your number= \", add) #printing result"
      ],
      "metadata": {
        "colab": {
          "base_uri": "https://localhost:8080/"
        },
        "id": "7rni-tE73Zj-",
        "outputId": "6e21fba1-50a0-42cd-b92b-51b1a5c2b21f"
      },
      "execution_count": null,
      "outputs": [
        {
          "output_type": "stream",
          "name": "stdout",
          "text": [
            "Enter first number5\n",
            "Enter second number8\n",
            "the addition of your number=  58\n"
          ]
        }
      ]
    },
    {
      "cell_type": "code",
      "source": [
        "print('enter 2 numbers;') #asking user to type 2 numbers\n",
        "a=int(input()) #input number 1\n",
        "b=int(input()) #input number 2\n",
        "print('the addition of '+str(a)+' and '+str(b)+' is '+str(a+b)) #adding the 2 numbers\n",
        "print('the subtraction of '+str(a)+' and '+str(b)+' is '+str(a-b)) #subtracting the 2 numbers\n",
        "print('the multiply of '+str(a)+' and '+str(b)+' is '+str(a*b)) #multiplying the 2 numbers\n",
        "print('the division of '+str(a)+' and '+str(b)+' is '+str(a/b)) #dividing the 2 numbers\n",
        "print('the remainder of '+str(a)+' and '+str(b)+' is '+str(a%b)) #finding out the remainder after division using %\n",
        "print('the power of '+str(a)+' and '+str(b)+' is '+str(a**b)) #making the second number the power of the first number"
      ],
      "metadata": {
        "colab": {
          "base_uri": "https://localhost:8080/"
        },
        "id": "07PakgR73bWa",
        "outputId": "65efa56c-74e9-4523-f2a2-7b200ba3ca16"
      },
      "execution_count": null,
      "outputs": [
        {
          "output_type": "stream",
          "name": "stdout",
          "text": [
            "enter 2 numbers;\n",
            "4\n",
            "8\n",
            "the addition of 4 and 8 is 12\n",
            "the subtraction of 4 and 8 is -4\n",
            "the multiply of 4 and 8 is 32\n",
            "the division of 4 and 8 is 0.5\n",
            "the remainder of 4 and 8 is 4\n",
            "the power of 4 and 8 is 65536\n"
          ]
        }
      ]
    },
    {
      "cell_type": "code",
      "source": [
        "print('enter your age ') \n",
        "age=int(input()) #user can enter any number as his age\n",
        "if age >=18: #if its 18 or above the user is allowed to vote\n",
        " print('you are old enough to vote') \n",
        "elif age <18: #if the user is below 18 then he is not allowed to vote\n",
        "  print('you are not old enough to vote')"
      ],
      "metadata": {
        "colab": {
          "base_uri": "https://localhost:8080/"
        },
        "id": "FTaTgOtG3cN2",
        "outputId": "91870aa3-719a-41b3-885b-195e93b093df"
      },
      "execution_count": null,
      "outputs": [
        {
          "output_type": "stream",
          "name": "stdout",
          "text": [
            "enter your age \n",
            "77\n",
            "you are old enough to vote\n"
          ]
        }
      ]
    },
    {
      "cell_type": "code",
      "source": [
        "print('enter your age ')\n",
        "age=int(input()) #user can enter any number as his age\n",
        "\n",
        "if age <=3: #if the age is 3 or below entry is free\n",
        " print('your entry is free')\n",
        "elif age <=18: #if the age is 18 or below the cost for entry is 25\n",
        " print('your admission cost is 25')\n",
        "else: #if the age is above 18 the cost for entry is 25\n",
        "  print('your admission cost is 40')"
      ],
      "metadata": {
        "colab": {
          "base_uri": "https://localhost:8080/"
        },
        "id": "ECfFjihQ3riT",
        "outputId": "f9ab0993-d4df-40db-a923-36f9e7388129"
      },
      "execution_count": null,
      "outputs": [
        {
          "output_type": "stream",
          "name": "stdout",
          "text": [
            "enter your age \n",
            "9\n",
            "your admission cost is 25\n"
          ]
        }
      ]
    },
    {
      "cell_type": "code",
      "source": [
        "print('type 2 numbers ')\n",
        "a=int(input()) \n",
        "b=int(input())\n",
        "listabc=[10,20,30,40,50] #making a list called listabc and putting numbers\n",
        "\n",
        "if (a in listabc): #checking if the first number entered by the user is in the list\n",
        "  print(\"a is in the list\")\n",
        "else: # the following message is displayed if it is not inside the list\n",
        "  print(\"a is not in the list\")\n",
        "\n",
        "if (b in listabc): #checking if the second number entered by the user is in the list\n",
        "  print(\"b is in the list\")\n",
        "else: #the following message is displayed if b is not inside the list\n",
        "  print(\"b is not in the list\")"
      ],
      "metadata": {
        "colab": {
          "base_uri": "https://localhost:8080/"
        },
        "id": "fEEuzwLn3uaT",
        "outputId": "480e8e14-715a-43d7-b4dc-34682beb57b1"
      },
      "execution_count": null,
      "outputs": [
        {
          "output_type": "stream",
          "name": "stdout",
          "text": [
            "type 2 numbers \n",
            "5\n",
            "9\n",
            "a is not in the list\n",
            "b is not in the list\n"
          ]
        }
      ]
    },
    {
      "cell_type": "code",
      "source": [
        "names=['jack','elsa','fatima','asiya','anna','john','emily'] #making a list of names of 6 people\n",
        "print(\"Hello,\"+names[0].title()+\"!\") #saying hello to the first person in the names list\n",
        "print(\"Hello,\"+names[1].title()+\"!\") #saying hello to the second person in the names list\n",
        "print(\"Hello,\"+names[2].title()+\"!\") #saying hello to the third person in the names list\n",
        "print(\"Hello,\"+names[4].title()+\"!\") #saying hello to the forth person in the names list\n",
        "print(\"Hello,\"+names[5].title()+\"!\") #saying hello to the fifth person in the names list\n",
        "print(\"Hello,\"+names[6].title()+\"!\") #saying hello to the sixth person in the names list"
      ],
      "metadata": {
        "colab": {
          "base_uri": "https://localhost:8080/"
        },
        "id": "Doq5rGbt3x7O",
        "outputId": "247f4e15-3afa-4e72-ee61-d69e3c158326"
      },
      "execution_count": null,
      "outputs": [
        {
          "output_type": "stream",
          "name": "stdout",
          "text": [
            "Hello,Jack!\n",
            "Hello,Elsa!\n",
            "Hello,Fatima!\n",
            "Hello,Anna!\n",
            "Hello,John!\n",
            "Hello,Emily!\n"
          ]
        }
      ]
    },
    {
      "cell_type": "code",
      "source": [
        "mot=['honda car','train','private jet',] #making a list of mode of transportation\n",
        "print(\"My brother owns a \"+mot[0].title()) # writing message of with the first element in list \n",
        "print(\"I use the \"+mot[1].title()+\" to reach my university\") #writing another message with the second element of the list\n",
        "print(\"I want to own a \"+mot[2].title()) #writing a third message about the third element of the list"
      ],
      "metadata": {
        "colab": {
          "base_uri": "https://localhost:8080/"
        },
        "id": "dmyqfep_30xk",
        "outputId": "e457ad85-bfd1-40cd-abe8-6aec83f649ca"
      },
      "execution_count": 1,
      "outputs": [
        {
          "output_type": "stream",
          "name": "stdout",
          "text": [
            "My brother owns a Honda Car\n",
            "I use the Train to reach my university\n",
            "I want to own a Private Jet\n"
          ]
        }
      ]
    },
    {
      "cell_type": "code",
      "source": [
        "country=['paris','uae','us'] #making a list of countries\n",
        "country[2]='italy' #replacing the third element in the list\n",
        "print(country) #printing the list"
      ],
      "metadata": {
        "colab": {
          "base_uri": "https://localhost:8080/"
        },
        "id": "8rVO4huA35gf",
        "outputId": "c96ad727-2783-48e4-e441-8aad11e45f06"
      },
      "execution_count": null,
      "outputs": [
        {
          "output_type": "stream",
          "name": "stdout",
          "text": [
            "['paris', 'uae', 'italy']\n"
          ]
        }
      ]
    },
    {
      "cell_type": "code",
      "source": [
        "country=['paris','uae','us'] #making a list of countries\n",
        "country.insert(2,'italy') #adding a country on the 3rd place of the list\n",
        "print(country) #printng the list"
      ],
      "metadata": {
        "colab": {
          "base_uri": "https://localhost:8080/"
        },
        "id": "6cS5N24437hR",
        "outputId": "05839328-483a-4bc5-afe5-dab2e2d31d1e"
      },
      "execution_count": null,
      "outputs": [
        {
          "output_type": "stream",
          "name": "stdout",
          "text": [
            "['paris', 'uae', 'italy', 'us']\n"
          ]
        }
      ]
    },
    {
      "cell_type": "code",
      "source": [
        "a=5 #storing a number in a variable called a\n",
        "print(a) #printing a's value\n",
        "print(\"the value of a is:\", a) #printing a with a message"
      ],
      "metadata": {
        "colab": {
          "base_uri": "https://localhost:8080/"
        },
        "id": "iKT995Di4JyP",
        "outputId": "d066dc14-2a37-4858-f1a9-1f6393ac785e"
      },
      "execution_count": 3,
      "outputs": [
        {
          "output_type": "stream",
          "name": "stdout",
          "text": [
            "5\n",
            "the value of a is: 5\n"
          ]
        }
      ]
    },
    {
      "cell_type": "code",
      "source": [
        "a,b= (\"hello there\"), (\"whats up\") #storing two messages in two variables\n",
        "#printing both variables seperately\n",
        "print(a) \n",
        "print(b)"
      ],
      "metadata": {
        "colab": {
          "base_uri": "https://localhost:8080/"
        },
        "id": "mQO2YmLr4N5V",
        "outputId": "4a1af72c-fca4-457c-9b4c-c61fca5a6a35"
      },
      "execution_count": null,
      "outputs": [
        {
          "output_type": "stream",
          "name": "stdout",
          "text": [
            "hello there\n",
            "whats up\n"
          ]
        }
      ]
    },
    {
      "cell_type": "code",
      "source": [
        "h=input(\"Enter height: \") #storing a number user will type as h for height\n",
        "w=input(\"Enter width: \") #storing a number user will type as w for width\n",
        "area=int(h)*int(w) #writng area formula \n",
        "perimeter=int(h)+int(h)+int(w)+int(w) #writing the perimeter formula\n",
        "print(\"the area is \",area) #printing area\n",
        "print(\"the perimeter is \",perimeter) #printing perimeter"
      ],
      "metadata": {
        "colab": {
          "base_uri": "https://localhost:8080/"
        },
        "id": "MfI8MVIf4TQm",
        "outputId": "8061aa90-cd15-4dd7-b825-bae69d03402d"
      },
      "execution_count": null,
      "outputs": [
        {
          "output_type": "stream",
          "name": "stdout",
          "text": [
            "Enter height: 5\n",
            "Enter width: 6\n",
            "the area is  30\n",
            "the perimeter is  22\n"
          ]
        }
      ]
    },
    {
      "cell_type": "code",
      "source": [
        "#ordinal function is used to find the number values of alphabets\n",
        "print('the ordinal value of capital H is')\n",
        "print(ord('H')) #printing the ordinal value of H"
      ],
      "metadata": {
        "colab": {
          "base_uri": "https://localhost:8080/"
        },
        "id": "prSnsjNO5SOy",
        "outputId": "2cbdc8d6-7c8e-4aa2-ed68-2d9b5f4d5232"
      },
      "execution_count": null,
      "outputs": [
        {
          "output_type": "stream",
          "name": "stdout",
          "text": [
            "the ordinal value of capital H is\n",
            "72\n"
          ]
        }
      ]
    }
  ]
}