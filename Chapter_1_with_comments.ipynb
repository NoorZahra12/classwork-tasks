{
  "nbformat": 4,
  "nbformat_minor": 0,
  "metadata": {
    "colab": {
      "provenance": [],
      "authorship_tag": "ABX9TyP9dOEDmFSwAHRMVAX1wnYQ",
      "include_colab_link": true
    },
    "kernelspec": {
      "name": "python3",
      "display_name": "Python 3"
    },
    "language_info": {
      "name": "python"
    }
  },
  "cells": [
    {
      "cell_type": "markdown",
      "metadata": {
        "id": "view-in-github",
        "colab_type": "text"
      },
      "source": [
        "<a href=\"https://colab.research.google.com/github/NoorZahra12/classwork-tasks/blob/main/Chapter_1_with_comments.ipynb\" target=\"_parent\"><img src=\"https://colab.research.google.com/assets/colab-badge.svg\" alt=\"Open In Colab\"/></a>"
      ]
    },
    {
      "cell_type": "markdown",
      "source": [
        "**Exercise 1:**\n",
        "\n",
        "Write a Python program to print the following string in a specific format.\n",
        "\n",
        "Twinkle, twinkle, little star,\n",
        "\n",
        "How I wonder what you are! \n",
        "\n",
        "Up above the world so high,   \t\t\n",
        "\n",
        "Like a diamond in the sky."
      ],
      "metadata": {
        "id": "Zw5j-yyxnvQI"
      }
    },
    {
      "cell_type": "code",
      "execution_count": null,
      "metadata": {
        "colab": {
          "base_uri": "https://localhost:8080/"
        },
        "id": "LwqTShzQi519",
        "outputId": "a0f32782-57ad-4fb2-84ea-9a87dfc8fd54"
      },
      "outputs": [
        {
          "output_type": "stream",
          "name": "stdout",
          "text": [
            "twinkle twinkle little star\n",
            "how i wonder what you are\n",
            "up above a world so high\n",
            "like a diamond in the star\n"
          ]
        }
      ],
      "source": [
        "#printing the poem in different lines\n",
        "print(\"twinkle twinkle little star\")\n",
        "print(\"how i wonder what you are\")\n",
        "print(\"up above a world so high\")\n",
        "print(\"like a diamond in the star\")"
      ]
    },
    {
      "cell_type": "markdown",
      "source": [
        "**Exercise 2:**\n",
        "\n",
        " Write a Python program to get the Python version you are using."
      ],
      "metadata": {
        "id": "vigR8WCUoAan"
      }
    },
    {
      "cell_type": "code",
      "source": [
        "import sys #importing a module\n",
        "print(\"python version\")\n",
        "print(sys.version) #printing the python version \n",
        "print(\"version info\")\n",
        "print(sys.version_info) #printing the python version in detail"
      ],
      "metadata": {
        "colab": {
          "base_uri": "https://localhost:8080/"
        },
        "id": "3fs-pOyki8ri",
        "outputId": "73c0c568-0fc0-4a72-bbc6-d955f8611de8"
      },
      "execution_count": null,
      "outputs": [
        {
          "output_type": "stream",
          "name": "stdout",
          "text": [
            "python version\n",
            "3.7.14 (default, Sep  8 2022, 00:06:44) \n",
            "[GCC 7.5.0]\n",
            "version info\n",
            "sys.version_info(major=3, minor=7, micro=14, releaselevel='final', serial=0)\n"
          ]
        }
      ]
    },
    {
      "cell_type": "markdown",
      "source": [
        "**Exercise 3:**\n",
        "\n",
        "Write a Python program to display the current date and time."
      ],
      "metadata": {
        "id": "z59xqTjjoHSx"
      }
    },
    {
      "cell_type": "code",
      "source": [
        "from datetime import date #importing module to find date\n",
        "today = date.today() #naming a variable today and giving it a value of the in built function\n",
        "print(\"today's date:\",today) #calling the variable to print date"
      ],
      "metadata": {
        "colab": {
          "base_uri": "https://localhost:8080/"
        },
        "id": "d6ChtJ_ljaXM",
        "outputId": "1f457904-fb73-49ff-f29e-c9dac06b1d6a"
      },
      "execution_count": null,
      "outputs": [
        {
          "output_type": "stream",
          "name": "stdout",
          "text": [
            "today's date: 2022-09-30\n"
          ]
        }
      ]
    },
    {
      "cell_type": "code",
      "source": [
        "from datetime import date #importing module to find date\n",
        "d1 = today.strftime(\"%d/%m/%y\") #printing date,month and year\n",
        "print(\"d1=\",d1)"
      ],
      "metadata": {
        "colab": {
          "base_uri": "https://localhost:8080/"
        },
        "id": "SgCnctrhnCMw",
        "outputId": "f2ffe4d1-7709-404d-a5f5-aea99bf0f82d"
      },
      "execution_count": null,
      "outputs": [
        {
          "output_type": "stream",
          "name": "stdout",
          "text": [
            "d1= 30/09/22\n"
          ]
        }
      ]
    },
    {
      "cell_type": "code",
      "source": [
        "from datetime import date #importing module to find date\n",
        "d2 = today.strftime(\"%m/%d/%y\") #printing month,date and year\n",
        "print(\"d2=\",d2)"
      ],
      "metadata": {
        "colab": {
          "base_uri": "https://localhost:8080/"
        },
        "id": "mls2PidsnKOY",
        "outputId": "daad05c8-6280-4db6-fabe-48dc912dbcdf"
      },
      "execution_count": null,
      "outputs": [
        {
          "output_type": "stream",
          "name": "stdout",
          "text": [
            "d2= 09/30/22\n"
          ]
        }
      ]
    },
    {
      "cell_type": "code",
      "source": [
        "from datetime import datetime\n",
        "#datetime object containing current date and time\n",
        "now = datetime.now() #naming  variable called now and giving it a value of the in built function\n",
        "print(\"now=\",now)"
      ],
      "metadata": {
        "colab": {
          "base_uri": "https://localhost:8080/"
        },
        "id": "7CxWDjFanN9N",
        "outputId": "0cdf537a-75aa-4e86-dd57-919f78c520fb"
      },
      "execution_count": null,
      "outputs": [
        {
          "output_type": "stream",
          "name": "stdout",
          "text": [
            "now= 2022-09-30 08:57:07.081552\n"
          ]
        }
      ]
    },
    {
      "cell_type": "markdown",
      "source": [
        "**Exercise 4:**\n",
        "\n",
        "Write three strings in different variables and print the output as one string."
      ],
      "metadata": {
        "id": "QcctMX7angvp"
      }
    },
    {
      "cell_type": "code",
      "source": [
        "#writing 3 strings in 3 different variables\n",
        "a= \"twinkle twinkle \"\n",
        "b= \"little \"\n",
        "c= \"star\"\n",
        "#printing the 3 variables together as one string\n",
        "print(a+b+c)"
      ],
      "metadata": {
        "colab": {
          "base_uri": "https://localhost:8080/"
        },
        "id": "XLvzXit0nSpS",
        "outputId": "35f09857-eba3-46fc-c63d-038d843734d5"
      },
      "execution_count": null,
      "outputs": [
        {
          "output_type": "stream",
          "name": "stdout",
          "text": [
            "twinkle twinkle little star\n"
          ]
        }
      ]
    },
    {
      "cell_type": "markdown",
      "source": [
        "**Exercise 5:**\n",
        "\n",
        "Write a Python program which accepts the radius of a circle from the user and compute the area."
      ],
      "metadata": {
        "id": "SIi_llJioQsD"
      }
    },
    {
      "cell_type": "code",
      "source": [
        "r=input(\"Enter radius \")     #user can write any number as radius\n",
        "area=3.14*int(r)**2   #calculating the formula of area by using the radius which was given by user\n",
        "print(\"the area of circle is \",area)   #printing the area"
      ],
      "metadata": {
        "colab": {
          "base_uri": "https://localhost:8080/"
        },
        "id": "mEA-VMy5oRYu",
        "outputId": "1fb6ad9f-4b11-469e-bffb-56c50f639b2e"
      },
      "execution_count": null,
      "outputs": [
        {
          "output_type": "stream",
          "name": "stdout",
          "text": [
            "Enter radius 11\n",
            "the area of circle is  379.94\n"
          ]
        }
      ]
    }
  ]
}