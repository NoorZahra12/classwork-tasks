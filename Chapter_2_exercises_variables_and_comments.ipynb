{
  "nbformat": 4,
  "nbformat_minor": 0,
  "metadata": {
    "colab": {
      "provenance": [],
      "authorship_tag": "ABX9TyO/avSafoI/E/HNtm+OI4R/",
      "include_colab_link": true
    },
    "kernelspec": {
      "name": "python3",
      "display_name": "Python 3"
    },
    "language_info": {
      "name": "python"
    }
  },
  "cells": [
    {
      "cell_type": "markdown",
      "metadata": {
        "id": "view-in-github",
        "colab_type": "text"
      },
      "source": [
        "<a href=\"https://colab.research.google.com/github/NoorZahra12/classwork-tasks/blob/main/Chapter_2_exercises_variables_and_comments.ipynb\" target=\"_parent\"><img src=\"https://colab.research.google.com/assets/colab-badge.svg\" alt=\"Open In Colab\"/></a>"
      ]
    },
    {
      "cell_type": "markdown",
      "source": [
        "**Exercise 1:**\n",
        "\n",
        "Type out the code below and add the correct data types to complete the variables\n",
        "\n",
        "Assign a message to a variable, and print that message. Then change the value of the variable to a new message, and print the new message."
      ],
      "metadata": {
        "id": "9xoK_4Vwqw_G"
      }
    },
    {
      "cell_type": "code",
      "source": [
        "a=\"Hello python world\" #making a variable and adding a value inside\n",
        "print(a) #printing the variable\n",
        "a=\"It's a beautiful day\" #changed the message of the variable\n",
        "print(a) #printing a new message"
      ],
      "metadata": {
        "id": "XsQnoDC9vXkd",
        "colab": {
          "base_uri": "https://localhost:8080/"
        },
        "outputId": "7a53df35-1df8-4dc0-c381-8affc9263d34"
      },
      "execution_count": null,
      "outputs": [
        {
          "output_type": "stream",
          "name": "stdout",
          "text": [
            "Hello python world\n",
            "It's a beautiful day\n"
          ]
        }
      ]
    },
    {
      "cell_type": "markdown",
      "source": [
        "**Exercise 2:**\n",
        "\n",
        "Find a quote from a famous person you admire. Print the quote and the name of its author.\n",
        "Find a quote from a famous person you admire. Print the quote and the name of its author. \n",
        "\n",
        "Your output should look something like the following, including the quotation marks:\n",
        "\n",
        "Albert Einstein once said, “A person who never made a mistake never tried anything new."
      ],
      "metadata": {
        "id": "pQWhqYCjq4GY"
      }
    },
    {
      "cell_type": "code",
      "source": [
        "a=(\"Albert Einstein once said,\\\"A person who never made a mistake never tried something new\\\"\") #putting \\ before \" so i can print \"\" in output\n",
        "print(a) #printing variable"
      ],
      "metadata": {
        "id": "uZUCy7ekvYPP",
        "colab": {
          "base_uri": "https://localhost:8080/"
        },
        "outputId": "85f7e7fb-7890-4e3e-d756-d82f5d4fcac4"
      },
      "execution_count": null,
      "outputs": [
        {
          "output_type": "stream",
          "name": "stdout",
          "text": [
            "Albert Einstein once said,\"A person who never made a mistake never tried something new\"\n"
          ]
        }
      ]
    },
    {
      "cell_type": "markdown",
      "source": [
        "**Exercise 3:**\n",
        "\n",
        "Tidy up the code to make it easier to understand\n",
        "\n",
        "Use a variable to represent a person’s name, and include some whitespace characters at the beginning and end of the name. Make sure you use each character combination, “\\t” and “\\n”, at least once.\n",
        "\n",
        "Print the name once, so the whitespace around the name is displayed.\n",
        "Print the name once, so the whitespace around the name is displayed. \n",
        "\n",
        "Then print the name using each of the three stripping functions, lstrip(), rstrip(), and strip()."
      ],
      "metadata": {
        "id": "TarVJk0dq8Y2"
      }
    },
    {
      "cell_type": "code",
      "source": [
        "a=\"  my name is \\t Noor Zahra   \" #putting a message in variable and using \\t to add some space in the message # \\t means tab\n",
        "print(a) #printing variable\n",
        "print(\"\\n\") #adding a new line with \\n\n",
        "\n",
        "#using a strip function here to remove extra spaces on both sides\n",
        "print(\"Im using the strip function here which will erase the extra spaces\")\n",
        "word='   python is cool  ' #writing a message in a variable\n",
        "newword=word.strip() #using strip function in a the variable(word) inside a new variable(newword)\n",
        "print(word) #printing original variable\n",
        "print(newword) #printing the new variable with the strip function inside it\n",
        "print(\"\\n\") #printing new line\n",
        "\n",
        "#using l.strip function to remove extra spaces on left side only\n",
        "print(\"I'm using the l.strip function which will erase the extra spaces on the left only\")\n",
        "word='   python is easy ' #changing the message of variable\n",
        "newword=word.lstrip() #using lstrip function in a the variable(word) inside a new variable(newword)\n",
        "print(word)\n",
        "print(newword)\n",
        "print(\"\\n\")\n",
        "\n",
        "#using r.strip function to remove extra spaces on left side only\n",
        "print(\"I'm using the r.strip function which will erase the extra spaces on the right only\")\n",
        "word='  python is great  ' #changing the message of variable\n",
        "newword=word.rstrip() #using rstrip function in a the variable(word) inside a new variable(newword)\n",
        "print(word)\n",
        "print(newword)"
      ],
      "metadata": {
        "colab": {
          "base_uri": "https://localhost:8080/"
        },
        "id": "1crvWHU3ei9O",
        "outputId": "613938ce-9f2f-4995-dd29-3ae8370ff8ad"
      },
      "execution_count": null,
      "outputs": [
        {
          "output_type": "stream",
          "name": "stdout",
          "text": [
            "  my name is \t Noor Zahra   \n",
            "\n",
            "\n",
            "Im using the strip function here which will erase the extra spaces\n",
            "   python is cool  \n",
            "python is cool\n",
            "\n",
            "\n",
            "I'm using the l.strip function which will erase the extra spaces on the left only\n",
            "   python is easy \n",
            "python is easy \n",
            "\n",
            "\n",
            "I'm using the r.strip function which will erase the extra spaces on the right only\n",
            "  python is great  \n",
            "  python is great\n"
          ]
        }
      ]
    },
    {
      "cell_type": "markdown",
      "source": [
        "**Exercise 4:**\n",
        "\n",
        "Use a variable to represent your favorite number. Then,using that variable, create a message that reveals your favorite number. Print\n",
        "that message."
      ],
      "metadata": {
        "id": "SchOpn-gq9Ir"
      }
    },
    {
      "cell_type": "code",
      "source": [
        "a=input(\"Enter your favorite number \") #user can put any number as their favorite number\n",
        "print(\"my favourite number is\", a) #printing a message telling the favorite number of the user"
      ],
      "metadata": {
        "id": "Y7_usyRcvaSw",
        "colab": {
          "base_uri": "https://localhost:8080/"
        },
        "outputId": "19d1e9b9-bd66-4860-e1af-351894a9302e"
      },
      "execution_count": null,
      "outputs": [
        {
          "output_type": "stream",
          "name": "stdout",
          "text": [
            "Enter your favorite number 56\n",
            "my favourite number is 56\n"
          ]
        }
      ]
    },
    {
      "cell_type": "markdown",
      "source": [
        "**Exercise 5:**\n",
        "\n",
        "A girl heads to a computer shop to buy some USB sticks. She loves USB sticks and wants as many as she can get for £50. They are £6 each.\n",
        "\n",
        "Write a programme that calculates how many USB sticks she can buy and how many pounds she will have left.\n",
        "\n",
        "You will to use the arithmetic operators to complete this exercise."
      ],
      "metadata": {
        "id": "c6f88oLSq9q7"
      }
    },
    {
      "cell_type": "code",
      "source": [
        "m=input(\"Enter current money at hand \") #user putting the money they have\n",
        "ip=input(\"Enter item price \") #user putting the price of item\n",
        "\n",
        "ai=int(m)/int(ip)              #ai is the amount of items you can buy\n",
        "change=int(m)%int(ip)           #getting remainder for finding change\n",
        "\n",
        "print(\"\\n The amount of items you can buy:\", int(ai)) #printing the amount of items\n",
        "print(\"your change: \", int(change)) #printing the change"
      ],
      "metadata": {
        "colab": {
          "base_uri": "https://localhost:8080/"
        },
        "id": "aQ3P8Oav9nAs",
        "outputId": "58efaaa8-980e-4d01-d2bb-415aa2dc9e8f"
      },
      "execution_count": null,
      "outputs": [
        {
          "output_type": "stream",
          "name": "stdout",
          "text": [
            "Enter current money at hand 50\n",
            "Enter item price 6\n",
            "\n",
            " The amount of items you can buy: 8\n",
            "your change:  2\n"
          ]
        }
      ]
    }
  ]
}