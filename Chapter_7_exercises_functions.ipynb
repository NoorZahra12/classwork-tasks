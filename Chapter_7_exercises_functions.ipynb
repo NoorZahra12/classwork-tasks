{
  "cells": [
    {
      "cell_type": "markdown",
      "metadata": {
        "id": "view-in-github",
        "colab_type": "text"
      },
      "source": [
        "<a href=\"https://colab.research.google.com/github/NoorZahra12/classwork-tasks/blob/main/Chapter_7_exercises_functions.ipynb\" target=\"_parent\"><img src=\"https://colab.research.google.com/assets/colab-badge.svg\" alt=\"Open In Colab\"/></a>"
      ]
    },
    {
      "cell_type": "markdown",
      "metadata": {
        "id": "jIqstKN-pUn3"
      },
      "source": [
        "**Exercise 1:Message**\n",
        "\n",
        "Write a function called display_message() that prints one sentence telling everyone what you are learning about in this chapter. Call the\n",
        "\n",
        "function, and make sure the message displays correctly"
      ]
    },
    {
      "cell_type": "code",
      "execution_count": null,
      "metadata": {
        "colab": {
          "base_uri": "https://localhost:8080/"
        },
        "id": "DMhkSSYvAKlk",
        "outputId": "2a428fec-fa51-49f9-e9f7-f972d415a740"
      },
      "outputs": [
        {
          "name": "stdout",
          "output_type": "stream",
          "text": [
            "Hello python world!\n"
          ]
        }
      ],
      "source": [
        "def display_message(): #making a function\n",
        "  print(\"Hello python world!\") #displaying a message to my function when it's called\n",
        "display_message() #calling my function"
      ]
    },
    {
      "cell_type": "markdown",
      "metadata": {
        "id": "bEUEQUPbpXv0"
      },
      "source": [
        "**Exercise 2:Favorite book**\n",
        "\n",
        "Write a function called favorite_book() that accepts one parameter, title. The function should print a message, such as One of my\n",
        "\n",
        "favorite books is Alice in Wonderland. Call the function, making sure to include a book title as an argument in the function call."
      ]
    },
    {
      "cell_type": "code",
      "execution_count": null,
      "metadata": {
        "colab": {
          "base_uri": "https://localhost:8080/"
        },
        "id": "EEu47qcq8VOL",
        "outputId": "426d759c-aabd-46dd-b8d9-5ea3313ea372"
      },
      "outputs": [
        {
          "name": "stdout",
          "output_type": "stream",
          "text": [
            "My favorite book is Harry Potter!\n"
          ]
        }
      ],
      "source": [
        "def favorite_book(bookname): #making a function to name a book\n",
        "  print(f\"\\n My favorite book is {bookname.title()}!\") #displaying information about book after function is called\n",
        "favorite_book()"
      ]
    },
    {
      "cell_type": "markdown",
      "metadata": {
        "id": "F5BgmNZ3pXI4"
      },
      "source": [
        "**Exercise 3: T-shirts**\n",
        "\n",
        "Write a function called make_shirt() that accepts a size and the text of a message that should be printed on the shirt. The function\n",
        "\n",
        "should print a sentence summarizing the size of the shirt and the message printed on it. Call the function once using positional\n",
        "\n",
        "arguments to make a shirt. Call the function a second time using keyword arguments."
      ]
    },
    {
      "cell_type": "code",
      "execution_count": null,
      "metadata": {
        "colab": {
          "base_uri": "https://localhost:8080/"
        },
        "id": "HHutPZPAAIM4",
        "outputId": "3d42351d-c30b-48e3-e411-481b73a027fb"
      },
      "outputs": [
        {
          "output_type": "stream",
          "name": "stdout",
          "text": [
            "please type the text you want to print on the shirt: Life is beautiful!\n",
            "type the size of the text: 79\n",
            "\n",
            " 'Life Is Beautiful!' has been added to your shirt with 79 size!\n"
          ]
        }
      ],
      "source": [
        "def make_shirt(msg,size): #making a function\n",
        "  print(f\"\\n '{msg.title()}' has been added to your shirt with {size} size!\") #displaying innformation about the shirt\n",
        "#calling function and user inputing any information\n",
        "make_shirt(str(input(\"please type the text you want to print on the shirt: \")),int(input(\"type the size of the text: \"))) "
      ]
    },
    {
      "cell_type": "markdown",
      "metadata": {
        "id": "nxGmM_IRpW4U"
      },
      "source": [
        "**Exercise 4: Large Shirts**\n",
        "\n",
        "Modify the make_shirt() function so that shirts are large by default with a message that reads I love Python. Make a large shirt and a\n",
        "\n",
        "medium shirt with the default message, and a shirt of any size with a different message."
      ]
    },
    {
      "cell_type": "code",
      "execution_count": null,
      "metadata": {
        "id": "kZJbVJ67AI5g",
        "colab": {
          "base_uri": "https://localhost:8080/"
        },
        "outputId": "14e1573b-3940-48ab-c4b1-ace0863ce60e"
      },
      "outputs": [
        {
          "output_type": "stream",
          "name": "stdout",
          "text": [
            "Here is your default shirt\n",
            "The shirt size is Large and the message on the shirt is 'I Love Pyton'\n",
            "\n",
            " Let's change the default size only\n",
            "shirt size: extra large\n",
            "The shirt size is extra large and the message on the shirt is 'I Love Pyton'\n",
            "\n",
            " Let's change both the default size and the default message of the shirt\n",
            "shirt size: small\n",
            "shirt message: rhea likes herself because she's selfish\n",
            "The shirt size is small and the message on the shirt is 'rhea likes herself because she's selfish'\n"
          ]
        }
      ],
      "source": [
        "def make_shirt(size='Large',msg='I Love Pyton'): #making a function\n",
        "  print(f\"The shirt size is {size} and the message on the shirt is '{msg}'\") #Displaying information about the shirt\n",
        "print(\"Here is your default shirt\")\n",
        "make_shirt() #calling my function with default message\n",
        "print(\"\\n Let's change the default size only\")\n",
        "make_shirt(size=input(\"shirt size: \")) #user can change default size\n",
        "print(\"\\n Let's change both the default size and the default message of the shirt\")\n",
        "make_shirt(size=(input(\"shirt size: \")),msg=input(\"shirt message: \")) #user can change both size and message"
      ]
    },
    {
      "cell_type": "markdown",
      "metadata": {
        "id": "mwykeH2rpWRB"
      },
      "source": [
        "**Exercise 5: Cities**\n",
        "\n",
        "Write a function called describe_city() that accepts the name of a city and its country. The function should print a simple sentence,\n",
        "\n",
        "such as Reykjavik is in Iceland. Give the parameter for the country a default value.\n",
        "\n",
        "Call your function for three different cities, at least one of which is not in the default country."
      ]
    },
    {
      "cell_type": "code",
      "execution_count": null,
      "metadata": {
        "colab": {
          "base_uri": "https://localhost:8080/"
        },
        "id": "mrytKK7XAJeh",
        "outputId": "afbd4cee-4778-4e89-fd1d-4eb3ed30d37a"
      },
      "outputs": [
        {
          "output_type": "stream",
          "name": "stdout",
          "text": [
            "\n",
            " Enter a city name to get the default country name\n",
            "city name: dubai\n",
            "\n",
            " Dubai is in Uae.\n",
            "\n",
            " Enter both city and country name\n",
            "\n",
            " city name: seoul\n",
            "country name: korea\n",
            "\n",
            " Seoul is in Korea.\n",
            "\n",
            " Enter a city name to get the default country name\n",
            "\n",
            " city name: Islamabad\n",
            "\n",
            " Islamabad is in Uae.\n"
          ]
        }
      ],
      "source": [
        "def describe_city(city,country=\"UAE\"): #making a function with default city and country as parameter\n",
        "  print(f\"\\n {city.title()} is in {country.title()}.\") #display information about the city\n",
        "print(\"\\n Enter a city name to get the default country name\")\n",
        "describe_city(str(input(\"city name: \"))) #user can enter any city name\n",
        "print(\"\\n Enter both city and country name\")\n",
        "describe_city(str(input(\"\\n city name: \")),str(input(\"country name: \"))) #user can change city and country name\n",
        "print(\"\\n Enter a city name to get the default country name\")\n",
        "describe_city(str(input(\"\\n city name: \"))) #user can input any city"
      ]
    }
  ],
  "metadata": {
    "colab": {
      "collapsed_sections": [],
      "provenance": [],
      "authorship_tag": "ABX9TyPqj4HKrYXZAkF6Ea//x6wv",
      "include_colab_link": true
    },
    "kernelspec": {
      "display_name": "Python 3",
      "name": "python3"
    },
    "language_info": {
      "name": "python"
    }
  },
  "nbformat": 4,
  "nbformat_minor": 0
}