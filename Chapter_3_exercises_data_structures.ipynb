{
  "nbformat": 4,
  "nbformat_minor": 0,
  "metadata": {
    "colab": {
      "provenance": [],
      "authorship_tag": "ABX9TyMPVDG1YRv7HkKrgHFR20P/",
      "include_colab_link": true
    },
    "kernelspec": {
      "name": "python3",
      "display_name": "Python 3"
    },
    "language_info": {
      "name": "python"
    }
  },
  "cells": [
    {
      "cell_type": "markdown",
      "metadata": {
        "id": "view-in-github",
        "colab_type": "text"
      },
      "source": [
        "<a href=\"https://colab.research.google.com/github/NoorZahra12/classwork-tasks/blob/main/Chapter_3_exercises_data_structures.ipynb\" target=\"_parent\"><img src=\"https://colab.research.google.com/assets/colab-badge.svg\" alt=\"Open In Colab\"/></a>"
      ]
    },
    {
      "cell_type": "markdown",
      "source": [
        "**Exercise 1: Names**\n",
        "\n",
        "Store the names of a few of your friends in a list called names. Print each person’s name by accessing each element in the list, one at a time."
      ],
      "metadata": {
        "id": "Ui0ReQOnBzBi"
      }
    },
    {
      "cell_type": "code",
      "source": [
        "names=['anna','Jack','Bob','Robert']\n",
        "print(names[0].title())\n",
        "print(names[1].title())\n",
        "print(names[2].title())\n",
        "print(names[3].title())"
      ],
      "metadata": {
        "colab": {
          "base_uri": "https://localhost:8080/"
        },
        "id": "cUKrLmH4H7FF",
        "outputId": "5c88a9f8-a700-47f1-9d3e-d41764d31737"
      },
      "execution_count": null,
      "outputs": [
        {
          "output_type": "stream",
          "name": "stdout",
          "text": [
            "Anna\n",
            "Jack\n",
            "Bob\n",
            "Robert\n"
          ]
        }
      ]
    },
    {
      "cell_type": "markdown",
      "source": [
        "**Exercise 2:Greetings**\n",
        "\n",
        "Start with the list you used in Exercise 1, but instead of just\n",
        "printing each person’s name, print a message to them. The text of each message should be the same, but each message should be \n",
        "personalized with the person’s name.\n"
      ],
      "metadata": {
        "id": "2D6PUphmCKX_"
      }
    },
    {
      "cell_type": "code",
      "source": [
        "names=['anna','Jack','Bob','Robert']\n",
        "print(\"Hello, \"+names[0].title()+\"! do you want to build a snowman?\")\n",
        "print(\"Hello, \"+names[1].title()+\"! nice to meet you\")\n",
        "print(\"Hello, \"+names[2].title()+\"! have a great day\")\n",
        "print(\"Hello, \"+names[3].title()+\"! how are you? long time no see\")"
      ],
      "metadata": {
        "colab": {
          "base_uri": "https://localhost:8080/"
        },
        "id": "MnbBu5-9LEo3",
        "outputId": "95b1e692-a485-4d9f-e6be-bc8c3cea4cb9"
      },
      "execution_count": null,
      "outputs": [
        {
          "output_type": "stream",
          "name": "stdout",
          "text": [
            "Hello, Anna! do you want to build a snowman?\n",
            "Hello, Jack! nice to meet you\n",
            "Hello, Bob! have a great day\n",
            "Hello, Robert! how are you? long time no see\n"
          ]
        }
      ]
    },
    {
      "cell_type": "markdown",
      "source": [
        "**Exercise 3:Your own list**\n",
        "\n",
        "Think of your favorite mode of transportation, such as a motorcycle or a car, and make a list that stores several examples. Use your list\n",
        "to print a series of statements about these items, such as “I would like to own a Honda motorcycle.”"
      ],
      "metadata": {
        "id": "FNd6_6GOCSSD"
      }
    },
    {
      "cell_type": "code",
      "source": [
        "mot=['honda car','bicycle','private jet'] #mot stands for mode of transportation\n",
        "\n",
        "print(\"I would like to own a \"+mot[0].title())\n",
        "print(\"I would like to own a \"+mot[1].title())\n",
        "print(\"I would like to own a \"+mot[2].title())"
      ],
      "metadata": {
        "colab": {
          "base_uri": "https://localhost:8080/"
        },
        "id": "Ls8UZgqMNaeY",
        "outputId": "9be4498c-256f-430c-8a07-f5f8092208ab"
      },
      "execution_count": null,
      "outputs": [
        {
          "output_type": "stream",
          "name": "stdout",
          "text": [
            "i would like to own a Honda Car\n",
            "i would like to own a Bicycle\n",
            "i would like to own a Private Jet\n"
          ]
        }
      ]
    },
    {
      "cell_type": "markdown",
      "source": [
        "**Exercise 4:Guest list**\n",
        "\n",
        "If you could invite anyone, living or deceased, to dinner, who would you invite? Make a list that includes at least three people you’d\n",
        "like to invite to dinner. Then use your list to print a message to each person, inviting them to dinner."
      ],
      "metadata": {
        "id": "4dwHmlPQCxLX"
      }
    },
    {
      "cell_type": "code",
      "source": [
        "names=['anna','Jack','Bob','Robert']\n",
        "print(\"Hello, \"+names[0].title()+\"! I'm hosting a dinner and i was wondering if you could spare some time and join me for dinner.\")\n",
        "print(\"Hello, \"+names[1].title()+\"! I'm hosting a dinner and i was wondering if you could spare some time and join me for dinner.\")\n",
        "print(\"Hello, \"+names[2].title()+\"! I'm hosting a dinner and i was wondering if you could spare some time and join me for dinner.\")\n",
        "print(\"Hello, \"+names[3].title()+\"! I'm hosting a dinner and i was wondering if you could spare some time and join me for dinner.\")"
      ],
      "metadata": {
        "colab": {
          "base_uri": "https://localhost:8080/"
        },
        "id": "fEur4npUMTtx",
        "outputId": "a4ef2bfc-2d20-44cc-8569-6d7e3eb033b6"
      },
      "execution_count": null,
      "outputs": [
        {
          "output_type": "stream",
          "name": "stdout",
          "text": [
            "Hello, Anna! I'm hosting a dinner and i was wondering if you could spare some time and join me for dinner.\n",
            "Hello, Jack! I'm hosting a dinner and i was wondering if you could spare some time and join me for dinner.\n",
            "Hello, Bob! I'm hosting a dinner and i was wondering if you could spare some time and join me for dinner.\n",
            "Hello, Robert! I'm hosting a dinner and i was wondering if you could spare some time and join me for dinner.\n"
          ]
        }
      ]
    },
    {
      "cell_type": "markdown",
      "source": [
        "**Exercise 5: Change Guest List**\n",
        "\n",
        "You just heard that one of your guests can’t make the dinner, so you need to send out a new set of invitations. You’ll have to think of someone else to invite.\n",
        "\n",
        "•Start with your program from Exercise 3-4. Add a print() call at the end of your program stating the name of the guest who can’t make it.\n",
        "\n",
        "•Modify your list, replacing the name of the guest who can’t make it with the name of the new person you are inviting.\n",
        "\n",
        "•Print a second set of invitation messages, one for each person who is still in your list."
      ],
      "metadata": {
        "id": "MDi3s9iH7rZX"
      }
    },
    {
      "cell_type": "code",
      "source": [
        "names=['anna','Jack','Bob','Robert']\n",
        "print(names[3],\"cant make it\")\n",
        "names[3]=\"william\"\n",
        "print(\"new list:\")\n",
        "print(names)\n",
        "print(\"Hello, \"+names[0].title()+\"! I'm hosting a dinner and i was wondering if you could spare some time and join me for dinner.\")\n",
        "print(\"Hello, \"+names[1].title()+\"! I'm hosting a dinner and i was wondering if you could spare some time and join me for dinner.\")\n",
        "print(\"Hello, \"+names[2].title()+\"! I'm hosting a dinner and i was wondering if you could spare some time and join me for dinner.\")\n",
        "print(\"Hello, \"+names[3].title()+\"! I'm hosting a dinner and i was wondering if you could spare some time and join me for dinner.\")"
      ],
      "metadata": {
        "id": "VaJlRwfbQep0",
        "colab": {
          "base_uri": "https://localhost:8080/"
        },
        "outputId": "584a5b46-d532-4cb5-d12e-bcf683deb3f3"
      },
      "execution_count": null,
      "outputs": [
        {
          "output_type": "stream",
          "name": "stdout",
          "text": [
            "Robert cant make it\n",
            "new list:\n",
            "['anna', 'Jack', 'Bob', 'william']\n",
            "Hello, Anna! I'm hosting a dinner and i was wondering if you could spare some time and join me for dinner.\n",
            "Hello, Jack! I'm hosting a dinner and i was wondering if you could spare some time and join me for dinner.\n",
            "Hello, Bob! I'm hosting a dinner and i was wondering if you could spare some time and join me for dinner.\n",
            "Hello, William! I'm hosting a dinner and i was wondering if you could spare some time and join me for dinner.\n"
          ]
        }
      ]
    },
    {
      "cell_type": "markdown",
      "source": [
        "**Exercise 6: Shrinking Guest List**\n",
        "\n",
        "You just found out that your new dinner table won’t arrive in time for the dinner, and you have space for only two guests.\n",
        "\n",
        "•Start with your program from Exercise 3-5. Add a new line that prints a message saying that you can invite only two people for dinner.\n",
        "\n",
        "•Use pop() to remove guests from your list one at a time until only two names remain in your list. Each time you pop a name from your list, print a message to that person letting them know you’re sorry you can’t invite them to dinner.\n",
        "\n",
        "•Print a message to each of the two people still on your list, letting them know they’re still invited.\n",
        "\n",
        "•Use del to remove the last two names from your list, so you have an empty list. Print your list to make sure you actually have an empty list at the end of your program. "
      ],
      "metadata": {
        "id": "z-u2W4hE7gZZ"
      }
    },
    {
      "cell_type": "code",
      "source": [
        "names=['anna','Jack','Bob','Robert']\n",
        "print(\"My sincerest apoligies due to my lack of preparation i have to declined my invitation to you has to be declined\",names.pop())\n",
        "print(\"My sincerest apoligies due to my lack of preparation i have to declined my invitation to you has to be declined\",names.pop())\n",
        "print(names)\n",
        "print(names[0],\"you are still invited to the dinner\")\n",
        "print(names[1],\"you are still invited to the dinner\")"
      ],
      "metadata": {
        "id": "kVQLxs92QfNL",
        "colab": {
          "base_uri": "https://localhost:8080/"
        },
        "outputId": "c6fcfad1-eb41-4ccb-f230-35b082306749"
      },
      "execution_count": 3,
      "outputs": [
        {
          "output_type": "stream",
          "name": "stdout",
          "text": [
            "My sincerest apoligies due to my lack of preparation i have to declined my invitation to you has to be declined Robert\n",
            "My sincerest apoligies due to my lack of preparation i have to declined my invitation to you has to be declined Bob\n",
            "['anna', 'Jack']\n",
            "anna you are still invited to the dinner\n",
            "Jack you are still invited to the dinner\n"
          ]
        }
      ]
    },
    {
      "cell_type": "markdown",
      "source": [
        "**Exercise 7:Seeing the World**\n",
        "\n",
        "Think of at least five places in the world you’d like to visit.\n",
        "•\t Store the locations in a list. Make sure the list is not in alphabetical order.\n",
        "\n",
        "•\t Print your list in its original order. Don’t worry about printing the list neatly,just print it as a raw Python list.\n",
        "\n",
        "•\t Use sorted() to print your list in alphabetical order without modifying the actual list.\n",
        "\n",
        "•\t Show that your list is still in its original order by printing it.\n",
        "\n",
        "•\t Use sorted() to print your list in reverse alphabetical order without changing the order of the original list.\n",
        "\n",
        "•\t Show that your list is still in its original order by printing it again.\n",
        "\n",
        "•\t Use reverse() to change the order of your list. Print the list to show that its order has changed.\n",
        "\n",
        "•\t Use reverse() to change the order of your list again. Print the list to show it’s back to its original order.\n",
        "\n",
        "•\t Use sort() to change your list so it’s stored in alphabetical order. Print the list to show that its order has been changed.\n",
        "\n",
        "•\t Use sort() to change your list so it’s stored in reverse alphabetical order. Print the list to show that its order has changed."
      ],
      "metadata": {
        "id": "VgVxHKASEMwD"
      }
    },
    {
      "cell_type": "code",
      "source": [
        "places=['Istanbul','Dubai','Islamabad','Italy','London']\n",
        "print(places) #printing original list\n",
        "sorted_places=sorted(places)#sorting without modify\n",
        "print(places)\n",
        "reverse_places=sorted(places, reverse=True)#reversing without modify\n",
        "print(places)\n",
        "places.reverse() #reversing my list\n",
        "print(places)\n",
        "places.reverse() #reversing it back to original list\n",
        "print(places)\n",
        "places.sort() #alphabet order\n",
        "print(places)\n",
        "places.reverse()#reversing the alphabet order\n",
        "print(places)"
      ],
      "metadata": {
        "colab": {
          "base_uri": "https://localhost:8080/"
        },
        "id": "l1gHSHpWQ65E",
        "outputId": "74fcdffc-8717-4552-86aa-5010deb18c9d"
      },
      "execution_count": null,
      "outputs": [
        {
          "output_type": "stream",
          "name": "stdout",
          "text": [
            "['Istanbul', 'Dubai', 'Islamabad', 'Italy', 'London']\n",
            "['Istanbul', 'Dubai', 'Islamabad', 'Italy', 'London']\n",
            "['Istanbul', 'Dubai', 'Islamabad', 'Italy', 'London']\n",
            "['London', 'Italy', 'Islamabad', 'Dubai', 'Istanbul']\n",
            "['Istanbul', 'Dubai', 'Islamabad', 'Italy', 'London']\n",
            "['Dubai', 'Islamabad', 'Istanbul', 'Italy', 'London']\n",
            "['London', 'Italy', 'Istanbul', 'Islamabad', 'Dubai']\n"
          ]
        }
      ]
    }
  ]
}