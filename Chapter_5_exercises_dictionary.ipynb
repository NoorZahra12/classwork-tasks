{
  "nbformat": 4,
  "nbformat_minor": 0,
  "metadata": {
    "colab": {
      "provenance": [],
      "authorship_tag": "ABX9TyM0QVKFcUI0Q/NYCuUf7XqV",
      "include_colab_link": true
    },
    "kernelspec": {
      "name": "python3",
      "display_name": "Python 3"
    },
    "language_info": {
      "name": "python"
    }
  },
  "cells": [
    {
      "cell_type": "markdown",
      "metadata": {
        "id": "view-in-github",
        "colab_type": "text"
      },
      "source": [
        "<a href=\"https://colab.research.google.com/github/NoorZahra12/classwork-tasks/blob/main/Chapter_5_exercises_dictionary.ipynb\" target=\"_parent\"><img src=\"https://colab.research.google.com/assets/colab-badge.svg\" alt=\"Open In Colab\"/></a>"
      ]
    },
    {
      "cell_type": "markdown",
      "source": [
        "**Exercise 1:**\n",
        "\n",
        "Use a dictionary to store information about a person you know.Store their first name, last name, age, and the city in which they live. You\n",
        "\n",
        "should have keys such as first_name, last_name, age, and city. Print each piece of information stored in your dictionary."
      ],
      "metadata": {
        "id": "U-ugx8KSnwpw"
      }
    },
    {
      "cell_type": "code",
      "source": [
        "student={'first_name':'Noor','last_name':'Zahra','age':'18','city':'Dubai'} #writing information about student in a dictionary\n",
        "print(student) #printing dictionary\n",
        "#printing the values of the keys\n",
        "print(student['first_name'])\n",
        "print(student['last_name'])\n",
        "print(student['age'])\n",
        "print(student['city'])"
      ],
      "metadata": {
        "colab": {
          "base_uri": "https://localhost:8080/"
        },
        "id": "jwYcDB-a3b8Q",
        "outputId": "74277bfe-f883-44c7-d3f4-58592a0063b1"
      },
      "execution_count": null,
      "outputs": [
        {
          "output_type": "stream",
          "name": "stdout",
          "text": [
            "{'first_name': 'Noor', 'last_name': 'Zahra', 'age': '18', 'city': 'Dubai'}\n",
            "Noor\n",
            "Zahra\n",
            "18\n",
            "Dubai\n"
          ]
        }
      ]
    },
    {
      "cell_type": "markdown",
      "source": [
        "**Exercise 2:**\n",
        "\n",
        "A Python dictionary can be used to model an actual dictionary. However, to avoid confusion, let’s call it a glossary.\n",
        "\n",
        "* Think of five programming words you’ve learned about in the previous chapters. Use these words as the keys in your glossary, and store \n",
        "\n",
        "their meanings as values.\n",
        "\n",
        "* Print each word and its meaning as neatly formatted output. You might print the word followed by a colon and then its meaning, or print \n",
        "\n",
        "the word on one line and then print its meaning indented on a second line. Use the newline character (\\n) to insert a blank line between \n",
        "\n",
        "each word-meaning pair in your output."
      ],
      "metadata": {
        "id": "sFfrduFCn9rW"
      }
    },
    {
      "cell_type": "code",
      "source": [
        "#writing information about student in a dictionary\n",
        "glossary={'loop':'a sequence of instruction being repeated until a certain condition is reached',\n",
        "          'title':'it capitalizes the first letter of the sentence',\n",
        "          'ord':'this function is used to turn a number into a letter',\n",
        "          'chr':'it turns a letter into a number',\n",
        "          'bin':'it can turn any number into a binary number'}\n",
        "for word, meaning in glossary.items(): #printing both the word and meaning of the glossary's items or element\n",
        "#printing word and meaning in a new line by capitalizing the first letter of every word\n",
        "  print(f\"\\n{word.title()}:{meaning.title()}\")"
      ],
      "metadata": {
        "colab": {
          "base_uri": "https://localhost:8080/"
        },
        "id": "_uKuLLeQ3con",
        "outputId": "99cb8983-1fe1-447e-c443-67e6fc77e393"
      },
      "execution_count": null,
      "outputs": [
        {
          "output_type": "stream",
          "name": "stdout",
          "text": [
            "\n",
            "Loop:A Sequence Of Instruction Being Repeated Until A Certain Condition Is Reached\n",
            "\n",
            "Title:It Capitalizes The First Letter Of The Sentence\n",
            "\n",
            "Ord:This Function Is Used To Turn A Number Into A Letter\n",
            "\n",
            "Chr:It Turns A Letter Into A Number\n",
            "\n",
            "Bin:It Can Turn Any Number Into A Binary Number\n"
          ]
        }
      ]
    },
    {
      "cell_type": "markdown",
      "source": [
        "**Exercise 3:**\n",
        "\n",
        "Now that you know how to loop through a dictionary, clean up the code from Exercise 6-3 (page 99) by replacing your series of print()\n",
        "\n",
        "calls with a loop that runs through the dictionary’s keys and values. When you’re sure that your loop works, add five more Python terms \n",
        "\n",
        "to your glossary.When you run your program again, these new words and meanings should automatically be included in the output.\n"
      ],
      "metadata": {
        "id": "Ac_99I8aoQlB"
      }
    },
    {
      "cell_type": "code",
      "source": [
        "#writing information about student in a dictionary\n",
        "glossary={'loop':'a sequence of instruction being repeated until a certain condition is reached',\n",
        "          'title':'it capitalizes the first letter of the sentence',\n",
        "          'ord':'this function is used to turn a number into a letter',\n",
        "          'chr':'it turns a letter into a number',\n",
        "          'bin':'it can turn any number into a binary number'}\n",
        "for word, meaning in glossary.items(): #printing both the word and meaning of the glossary's items or element\n",
        "#printing word and meaning in a new line by capitalizing the first letter of every word\n",
        "  print(f\"\\n{word.title()}:{meaning.title()}\")\n",
        "#adding 5 more keys and values\n",
        "glossary['if']= 'used to check whether a statement is true or false to get ouput accordingly'\n",
        "glossary['append']= 'you can use to add items to the end of a given list'\n",
        "glossary['del']= 'it is used to delete an element at a specified index number in the list.'\n",
        "glossary['strip']= 'it is used to remove extra spaces in'\n",
        "glossary['sort']= 'it is a built-in Python method that, by default, sorts the list in alphabetic ascending order.'\n",
        "#printing all the new and old keys and values of the dictionary\n",
        "print(\"\\n Printing all the dictionary's keys and values: \")\n",
        "for word, meaning in glossary.items():\n",
        "#printing word and meaning in a new line by capitalizing the first letter of every word\n",
        "  print(f\"\\n{word.title()}:{meaning.title()}\")"
      ],
      "metadata": {
        "id": "_8U2awnf3dWM",
        "colab": {
          "base_uri": "https://localhost:8080/"
        },
        "outputId": "cf99a729-32b3-4e04-d598-687a4ebaa962"
      },
      "execution_count": 4,
      "outputs": [
        {
          "output_type": "stream",
          "name": "stdout",
          "text": [
            "\n",
            "Loop:A Sequence Of Instruction Being Repeated Until A Certain Condition Is Reached\n",
            "\n",
            "Title:It Capitalizes The First Letter Of The Sentence\n",
            "\n",
            "Ord:This Function Is Used To Turn A Number Into A Letter\n",
            "\n",
            "Chr:It Turns A Letter Into A Number\n",
            "\n",
            "Bin:It Can Turn Any Number Into A Binary Number\n",
            "\n",
            " Printing all the dictionary's keys and values: \n",
            "\n",
            "Loop:A Sequence Of Instruction Being Repeated Until A Certain Condition Is Reached\n",
            "\n",
            "Title:It Capitalizes The First Letter Of The Sentence\n",
            "\n",
            "Ord:This Function Is Used To Turn A Number Into A Letter\n",
            "\n",
            "Chr:It Turns A Letter Into A Number\n",
            "\n",
            "Bin:It Can Turn Any Number Into A Binary Number\n",
            "\n",
            "If:Used To Check Whether A Statement Is True Or False To Get Ouput Accordingly\n",
            "\n",
            "Append:You Can Use To Add Items To The End Of A Given List\n",
            "\n",
            "Del:It Is Used To Delete An Element At A Specified Index Number In The List.\n",
            "\n",
            "Strip:It Is Used To Remove Extra Spaces In\n",
            "\n",
            "Sort:It Is A Built-In Python Method That, By Default, Sorts The List In Alphabetic Ascending Order.\n"
          ]
        }
      ]
    },
    {
      "cell_type": "markdown",
      "source": [
        "**Exercise 4:**\n",
        "\n",
        "Make a dictionary containing three major rivers and the country each river runs through. One key-value pair might be 'nile': 'egypt'.\n",
        "\n",
        "* Use a loop to print a sentence about each river, such as The Nile runs through Egypt.\n",
        "\n",
        "* Use a loop to print the name of each river included in the dictionary.\n",
        "\n",
        "* Use a loop to print the name of each country included in the dictionary."
      ],
      "metadata": {
        "id": "CEkjKgLmomNH"
      }
    },
    {
      "cell_type": "code",
      "source": [
        "names={'nile':'egypt','amazon':'brazil','yangtze':'china'}\n",
        "print('The major rivers and their countries:')\n",
        "for river, country in names.items(): #using for loop in dictionary\n",
        " print(f\"\\n The {river.title()} river runs through {country.title()}\") #printing river's name running through country's name\n",
        "for river, country in names.items():\n",
        " print(f\"\\n The rivers included in dictionary are: {river.title()}\") #printing river only from list\n",
        "for river, country in names.items():\n",
        "  print(f\"\\n The countries included in dictionary are: {country.title()}\") #printing country only from list"
      ],
      "metadata": {
        "id": "ucgjkgdZ3eAb",
        "colab": {
          "base_uri": "https://localhost:8080/"
        },
        "outputId": "c52c0120-fb23-41a8-f528-065e1cd16423"
      },
      "execution_count": null,
      "outputs": [
        {
          "output_type": "stream",
          "name": "stdout",
          "text": [
            "The major rivers and their countries:\n",
            "\n",
            " The Nile river runs through Egypt\n",
            "\n",
            " The Amazon river runs through Brazil\n",
            "\n",
            " The Yangtze river runs through China\n",
            "\n",
            " The rivers included in dictionary are: Nile\n",
            "\n",
            " The rivers included in dictionary are: Amazon\n",
            "\n",
            " The rivers included in dictionary are: Yangtze\n",
            "\n",
            " The countries included in dictionary are: Egypt\n",
            "\n",
            " The countries included in dictionary are: Brazil\n",
            "\n",
            " The countries included in dictionary are: China\n"
          ]
        }
      ]
    },
    {
      "cell_type": "markdown",
      "source": [
        "**Exercise 5:**\n",
        "\n",
        "Make several dictionaries, where each dictionary represents a different pet. In each dictionary, include the kind of animal and the\n",
        "\n",
        "owner’s name. Store these dictionaries in a list called pets. Next, loop through your list and as you do, print everything you know about \n",
        "\n",
        "each pet"
      ],
      "metadata": {
        "id": "Cve3LUVwowpN"
      }
    },
    {
      "cell_type": "code",
      "source": [
        "pet1={\"animal:\":\"cat\",\n",
        "      \"owner:\":\"emily\"} #writing pet's information\n",
        "print(\"1st Pet's information=\")\n",
        "for key, value in pet1.items():\n",
        "  print(f\"{key.title()} {value.title()}\") #printing pet 1's info with for loop\n",
        "\n",
        "pet2={\"animal:\":\"dog\",\n",
        "      \"owner:\":\"bob\"} #writing pet's information\n",
        "print(\"2nd Pet's information=\")\n",
        "for key, value in pet1.items():\n",
        "  print(f\"\\n{key.title()} {value.title()}\") #printing pet 2's info with for loop\n",
        "\n",
        "pet3={\"animal:\":\"hamster\",\n",
        "      \"owner:\":\"harry\"} #writing pet's information\n",
        "print(\"3rd Pet's information=\")\n",
        "for key, value in pet1.items():\n",
        "  print(f\"\\n{key.title()} {value.title()}\") #printing pet 3's info with for loop\n",
        "\n",
        "pet4={\"animal:\":\"parrot\",\n",
        "      \"owner:\":\"jack\"} #writing pet's information\n",
        "print(\"4th Pet's information=\")\n",
        "for key, value in pet1.items():\n",
        "  print(f\"\\n{key.title()} {value.title()}\") #printing pet 4's info with for loop\n",
        "\n",
        "pet5={\"animal:\":\"rabbit\",\n",
        "      \"owner:\":\"alice\"} #writing pet's information\n",
        "print(\"5th Pet's information=\")\n",
        "for key, value in pet1.items():\n",
        "  print(f\"\\n{key.title()} {value.title()}\") #printing pet 5's info with for loop"
      ],
      "metadata": {
        "id": "q7Q7uTc53ewL",
        "colab": {
          "base_uri": "https://localhost:8080/"
        },
        "outputId": "c5a8a2af-3f5c-49f1-9449-49543511ee05"
      },
      "execution_count": null,
      "outputs": [
        {
          "output_type": "stream",
          "name": "stdout",
          "text": [
            "1st Pet's information=\n",
            "Animal: Cat\n",
            "Owner: Emily\n",
            "2nd Pet's information=\n",
            "\n",
            "Animal: Cat\n",
            "\n",
            "Owner: Emily\n",
            "3rd Pet's information=\n",
            "\n",
            "Animal: Cat\n",
            "\n",
            "Owner: Emily\n",
            "4th Pet's information=\n",
            "\n",
            "Animal: Cat\n",
            "\n",
            "Owner: Emily\n",
            "5th Pet's information=\n",
            "\n",
            "Animal: Cat\n",
            "\n",
            "Owner: Emily\n"
          ]
        }
      ]
    }
  ]
}